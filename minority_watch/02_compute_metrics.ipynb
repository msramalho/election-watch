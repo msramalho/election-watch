{
 "cells": [
  {
   "cell_type": "code",
   "execution_count": 21,
   "metadata": {},
   "outputs": [],
   "source": [
    "import pandas as pd\n",
    "from os import listdir\n",
    "from os.path import isfile, join\n",
    "import pandas as pd\n",
    "import numpy as np\n",
    "import re\n"
   ]
  },
  {
   "cell_type": "code",
   "execution_count": 14,
   "metadata": {},
   "outputs": [],
   "source": [
    "# function that finds a word in a sentence, only a word and not a subword\n",
    "def find_whole_word(w):\n",
    "    return re.compile(r'\\b({0})\\b'.format(w), flags=re.IGNORECASE).search\n",
    "\n",
    "# match for every candidate the words and count simple\n",
    "# check in the messages how many matches with the words from the list\n",
    "def find_words_candidate_messages(messages, words_list, filename_to_save):\n",
    "\n",
    "  # define structures to store results\n",
    "  candidates_word_counts = pd.DataFrame(columns = [\"candidate_id\",\"word_counts\",\"total\"])\n",
    "  messages_with_words = pd.DataFrame(columns = [\"candidate_id\",\"message\",\"word\"])\n",
    "\n",
    "  # get list of candidates ids\n",
    "  candidates_list = np.unique(messages['candidate_id'])\n",
    "\n",
    "  # for all candidates\n",
    "  for candidate in candidates_list:\n",
    "    sum_words_counts = 0\n",
    "    messages_text = messages.loc[messages['candidate_id'] == candidate]['text']\n",
    "\n",
    "    # for all messages of one candidate\n",
    "    for message in messages_text:\n",
    "\n",
    "      # match for all words\n",
    "      for word in words_list:\n",
    "        result = find_whole_word(word)(message)\n",
    "        if(result != None):\n",
    "          sum_words_counts = sum_words_counts + 1\n",
    "          messages_with_words = messages_with_words.append({'candidate_id': candidate,\n",
    "                                                            'message': message,\n",
    "                                                            'word': word}, ignore_index=True)\n",
    "        \n",
    "    candidates_word_counts = candidates_word_counts.append({'candidate_id': candidate,\n",
    "                                                            'word_counts': sum_words_counts,\n",
    "                                                            'total': len(messages_text)}, ignore_index=True)\n",
    "\n",
    "  # normalize the counts with the total messages from a candidate\n",
    "  candidates_word_counts['words_percentage'] = candidates_word_counts['word_counts'] / candidates_word_counts['total']\n",
    "\n",
    "  # save to csv\n",
    "  candidates_word_counts.to_csv(\"./resulting_files/\" + filename_to_save + '_percentages.csv', index=False, sep=',')\n",
    "  messages_with_words.to_csv(\"./resulting_files/\" + filename_to_save + '_messages.csv', index=False, sep=',')\n",
    "\n",
    "# convert the minority words to minority category\n",
    "def convert_minority_words_to_category(minority_words_messages, categories_list_file, minority_words_percentages):\n",
    "  # join with the original word list table to get the category\n",
    "  result = pd.merge(minority_words_messages, categories_list_file, how=\"inner\", on=[\"word\"])\n",
    "  # compute frequencies of minority\n",
    "  result = pd.DataFrame(result.groupby([\"candidate_id\", \"minority\"]).size().unstack(fill_value=0).stack().reset_index(name='count'))\n",
    "  # compute total frequencies of minority per candidate\n",
    "  compute_total_words_minorities = result.groupby(by='candidate_id').sum().reset_index()\n",
    "  result = pd.merge(result, compute_total_words_minorities, how=\"inner\", on=[\"candidate_id\"])\n",
    "  # merge also the total messages per candidate\n",
    "  num_total_messages_candidate = minority_words_percentages[[\"candidate_id\",\"total\"]]\n",
    "  result = pd.merge(result, num_total_messages_candidate, how=\"inner\", on=[\"candidate_id\"])\n",
    "  # rename columns for better reading\n",
    "  result = result.rename(columns={'count_x': 'num_words_minority', 'count_y': 'total_words_minority', 'total': 'total_messages'})\n",
    "\n",
    "  # normalize with the total messages from one candidate\n",
    "  result[\"percentage_minority_inside_all_candidate_messages\"] = result[\"num_words_minority\"] / result[\"total_messages\"]\n",
    "  \n",
    "  # save results to csv\n",
    "  result.to_csv('./resulting_files/data_radar_plots.csv', index=False, sep=',')"
   ]
  },
  {
   "cell_type": "code",
   "execution_count": null,
   "metadata": {},
   "outputs": [
    {
     "name": "stdout",
     "output_type": "stream",
     "text": [
      "             word    minority insult\n",
      "0          cigana     ciganos     no\n",
      "1         ciganas     ciganos     no\n",
      "2          cigano     ciganos     no\n",
      "3         ciganos     ciganos     no\n",
      "4            lela     ciganos    yes\n",
      "..            ...         ...    ...\n",
      "159   intersexual        LGBT     no\n",
      "160  intersexuais        LGBT     no\n",
      "161   não binário        LGBT     no\n",
      "162     refugiado  refugiados     no\n",
      "163    refugiados  refugiados     no\n",
      "\n",
      "[164 rows x 3 columns]\n"
     ]
    }
   ],
   "source": [
    ""
   ]
  },
  {
   "cell_type": "code",
   "execution_count": 42,
   "metadata": {},
   "outputs": [],
   "source": [
    "# get words list\n",
    "url = 'https://raw.githubusercontent.com/paulafortuna/Portuguese-minority-terms/main/final_list.csv'\n",
    "final_list_words = pd.read_csv(url)\n",
    "minority_words = final_list_words.loc[final_list_words['minority'] != \"no\"][\"word\"]\n",
    "insult_words = final_list_words.loc[final_list_words['insult'] == \"yes\"][\"word\"]\n",
    "minority_insult_words = pd.Series(list(set(minority_words) & set(insult_words)))"
   ]
  },
  {
   "cell_type": "markdown",
   "metadata": {},
   "source": [
    "Usage example"
   ]
  },
  {
   "cell_type": "code",
   "execution_count": 43,
   "metadata": {},
   "outputs": [],
   "source": [
    "# get messages\n",
    "messages_candidates_replies = pd.read_csv('./resulting_files/candidates_replies.csv', sep=',')"
   ]
  },
  {
   "cell_type": "code",
   "execution_count": 44,
   "metadata": {},
   "outputs": [],
   "source": [
    "# call functions for computing some metrics\n",
    "find_words_candidate_messages(messages_candidates_replies, minority_words, 'minority_words')\n",
    "find_words_candidate_messages(messages_candidates_replies, insult_words, 'insult_words')\n",
    "find_words_candidate_messages(messages_candidates_replies, minority_insult_words, 'minority_insult_words')"
   ]
  },
  {
   "cell_type": "code",
   "execution_count": 45,
   "metadata": {},
   "outputs": [],
   "source": [
    "# read computed metrics\n",
    "minority_words_percentages = pd.read_csv('./resulting_files/minority_words_percentages.csv', sep=',')\n",
    "insult_words_percentages = pd.read_csv('./resulting_files/insult_words_percentages.csv', sep=',')\n",
    "minority_insult_words_percentages = pd.read_csv('./resulting_files/minority_insult_words_percentages.csv', sep=',')\n",
    "\n",
    "minority_words_messages = pd.read_csv('./resulting_files/minority_words_messages.csv', sep=',')"
   ]
  },
  {
   "cell_type": "code",
   "execution_count": 46,
   "metadata": {},
   "outputs": [],
   "source": [
    "convert_minority_words_to_category(minority_words_messages,final_list_words,minority_words_percentages)\n"
   ]
  },
  {
   "cell_type": "code",
   "execution_count": null,
   "metadata": {},
   "outputs": [],
   "source": []
  }
 ],
 "metadata": {
  "kernelspec": {
   "display_name": "Python 3",
   "language": "python",
   "name": "python3"
  },
  "language_info": {
   "codemirror_mode": {
    "name": "ipython",
    "version": 3
   },
   "file_extension": ".py",
   "mimetype": "text/x-python",
   "name": "python",
   "nbconvert_exporter": "python",
   "pygments_lexer": "ipython3",
   "version": "3.6.4"
  }
 },
 "nbformat": 4,
 "nbformat_minor": 2
}
