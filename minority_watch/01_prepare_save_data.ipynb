{
 "cells": [
  {
   "cell_type": "markdown",
   "metadata": {},
   "source": [
    "# Prepare data"
   ]
  },
  {
   "cell_type": "code",
   "execution_count": 3,
   "metadata": {},
   "outputs": [],
   "source": [
    "import pandas as pd\n",
    "from os import listdir\n",
    "from os.path import isfile, join\n",
    "import pandas as pd\n",
    "import numpy as np\n"
   ]
  },
  {
   "cell_type": "code",
   "execution_count": 4,
   "metadata": {},
   "outputs": [],
   "source": [
    "# get filenames\n",
    "data_politicians_replies_path = './data_politicians_replies'\n",
    "filenames = [f for f in listdir(data_politicians_replies_path) if isfile(join(data_politicians_replies_path, f))]"
   ]
  },
  {
   "cell_type": "code",
   "execution_count": 5,
   "metadata": {},
   "outputs": [],
   "source": [
    "# get all candidate replies messages in a dataframe\n",
    "candidates_replies = pd.DataFrame(columns = ['reply_to',\"text\"])\n",
    "for filename in filenames:\n",
    "  # read file\n",
    "  messages = pd.read_csv('./data_politicians_replies/' + filename, sep=',', usecols=range(6))\n",
    "  candidates_replies = pd.concat([candidates_replies, messages[['reply_to', 'text']]])\n",
    "\n",
    "#change column name\n",
    "candidates_replies = candidates_replies.rename(columns={\"reply_to\": \"candidate_id\"})"
   ]
  },
  {
   "cell_type": "code",
   "execution_count": 6,
   "metadata": {},
   "outputs": [],
   "source": [
    "# save to files\n",
    "candidates_replies.to_csv('./resulting_files/candidates_replies.csv', index=False, sep=',')"
   ]
  }
 ],
 "metadata": {
  "kernelspec": {
   "display_name": "Python 3",
   "language": "python",
   "name": "python3"
  },
  "language_info": {
   "codemirror_mode": {
    "name": "ipython",
    "version": 3
   },
   "file_extension": ".py",
   "mimetype": "text/x-python",
   "name": "python",
   "nbconvert_exporter": "python",
   "pygments_lexer": "ipython3",
   "version": "3.6.4"
  }
 },
 "nbformat": 4,
 "nbformat_minor": 2
}
