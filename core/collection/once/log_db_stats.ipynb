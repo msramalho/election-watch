{
 "cells": [
  {
   "cell_type": "markdown",
   "metadata": {},
   "source": [
    "# Log DB Stats\n",
    "regularly update the size of the database while other processes interact with it"
   ]
  },
  {
   "cell_type": "code",
   "execution_count": null,
   "metadata": {},
   "outputs": [],
   "source": [
    "# required imports to access api_db, misc, misc.CONFIG, ...\n",
    "import sys\n",
    "sys.path = ['.', '..', '../..'] + sys.path\n",
    "from collection import *"
   ]
  },
  {
   "cell_type": "markdown",
   "metadata": {},
   "source": [
    "<hr>\n",
    "<h1 align=\"center\">driver code</h1>"
   ]
  },
  {
   "cell_type": "code",
   "execution_count": null,
   "metadata": {},
   "outputs": [],
   "source": [
    "from time import sleep\n",
    "import datetime"
   ]
  },
  {
   "cell_type": "code",
   "execution_count": null,
   "metadata": {},
   "outputs": [],
   "source": [
    "seconds_between_db_stats_log = misc.CONFIG[\"seconds_between_db_stats_log\"]\n",
    "print(\"logging database statistics every %d seconds\" % seconds_between_db_stats_log)\n",
    "with open(misc.CONFIG[\"database_stats_file\"], \"a\") as db_logs:\n",
    "    while True:\n",
    "        try:\n",
    "            db_logs.write(\"%s,%d,%d,%s\\n\" % (\n",
    "                datetime.datetime.now(),\n",
    "                api_db.col_users.estimated_document_count(),\n",
    "                api_db.col_tweets.estimated_document_count(),\n",
    "                get_db_mb())\n",
    "            )\n",
    "            db_logs.flush()\n",
    "            print(\".\", end=\"\", flush=True)\n",
    "        except Exception as e:\n",
    "            print(\"X\", end=\"\", flush=True)\n",
    "            print(\"[caught exception, continuing: %s]\" % e)\n",
    "        sleep(seconds_between_db_stats_log)"
   ]
  },
  {
   "cell_type": "code",
   "execution_count": null,
   "metadata": {},
   "outputs": [],
   "source": [
    "print(\"DONE\")"
   ]
  }
 ],
 "metadata": {
  "kernelspec": {
   "display_name": "Python 3",
   "language": "python",
   "name": "python3"
  },
  "language_info": {
   "codemirror_mode": {
    "name": "ipython",
    "version": 3
   },
   "file_extension": ".py",
   "mimetype": "text/x-python",
   "name": "python",
   "nbconvert_exporter": "python",
   "pygments_lexer": "ipython3",
   "version": "3.7.4"
  }
 },
 "nbformat": 4,
 "nbformat_minor": 2
}
