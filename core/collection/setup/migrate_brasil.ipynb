{
 "cells": [
  {
   "cell_type": "markdown",
   "metadata": {},
   "source": [
    "# Migration remove brasilian-pt accounts"
   ]
  },
  {
   "cell_type": "code",
   "execution_count": null,
   "metadata": {
    "tags": []
   },
   "outputs": [],
   "source": [
    "# required imports to access api_db, misc, misc.CONFIG, ...\n",
    "import sys\n",
    "sys.path = ['.', '..', '../..'] + sys.path\n",
    "from collection import *"
   ]
  },
  {
   "cell_type": "markdown",
   "metadata": {},
   "source": [
    "<hr>\n",
    "<h1 align=\"center\">driver code</h1>"
   ]
  },
  {
   "cell_type": "markdown",
   "metadata": {},
   "source": [
    "Run all necessary instructions to properly setup the database (idempotent operations)"
   ]
  },
  {
   "cell_type": "code",
   "execution_count": null,
   "metadata": {},
   "outputs": [],
   "source": [
    "brasilan_locations = [\"rio de janeiro\", \"salvador\", \"itabuna\", \"bahia\", \"recife\", \"copa\", \"fortaleza\", \"manaus\", \"brazil\", \"sao paulo\", \"são paulo\", \"maracanã\", \"maracana\", \"belo horizonte\", \"🇧🇷\", \"mato grosso\", \"mato g.\", \"curitiba\", \"alagoinhas\", \"rj\", \"brasilia\", \"brasília\", \"porto alegre\", \"brazuca\" \"-br\", \"🇪🇸\", \"spain\", \"madrid\", \"🇺🇸\"]\n",
    "brasilan_descriptions = [\"brasil\", \"brazil\", \"bolsonaro\", \"lula\", \"🇧🇷\", \"brazuca\", \" br \"]\n",
    "\n",
    "def is_brazilian(user):\n",
    "    loc = user[\"location\"].lower() if \"location\" in user else \"\"\n",
    "    desc = user[\"description\"].lower() if \"description\" in user else \"\"\n",
    "    if \"portugal\" in loc: return False\n",
    "    \n",
    "    if len(loc) and any(x in loc for x in brasilan_locations): return True\n",
    "    if len(desc) and any(x in desc for x in brasilan_descriptions): return True\n",
    "    return False"
   ]
  },
  {
   "cell_type": "code",
   "execution_count": null,
   "metadata": {},
   "outputs": [],
   "source": [
    "find_params = find_exclude_invalid({\"depth\": {\"$gt\": 0}})\n",
    "counter = 0\n",
    "for user in api_db.col_users.find(find_params, {\"location\": True, \"description\": True}):\n",
    "    if is_brazilian(user): # remove these users\n",
    "        counter+=1\n",
    "        api_db.col_users.remove({\"_id\": user[\"_id\"]})"
   ]
  },
  {
   "cell_type": "code",
   "execution_count": null,
   "metadata": {
    "tags": []
   },
   "outputs": [],
   "source": [
    "print(\"Removed %d brasilian-pt users\" % counter)"
   ]
  },
  {
   "cell_type": "code",
   "execution_count": null,
   "metadata": {},
   "outputs": [],
   "source": [
    "print(\"DONE\")"
   ]
  }
 ],
 "metadata": {
  "kernelspec": {
   "display_name": "Python 3",
   "language": "python",
   "name": "python3"
  },
  "language_info": {
   "codemirror_mode": {
    "name": "ipython",
    "version": 3
   },
   "file_extension": ".py",
   "mimetype": "text/x-python",
   "name": "python",
   "nbconvert_exporter": "python",
   "pygments_lexer": "ipython3",
   "version": "3.7.4-final"
  }
 },
 "nbformat": 4,
 "nbformat_minor": 2
}