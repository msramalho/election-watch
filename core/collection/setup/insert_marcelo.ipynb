{
 "cells": [
  {
   "cell_type": "markdown",
   "metadata": {},
   "source": [
    "# Insert Marcelo\n",
    "Current president does not have a twitter account be we will measure his impact"
   ]
  },
  {
   "cell_type": "code",
   "execution_count": null,
   "metadata": {
    "tags": []
   },
   "outputs": [],
   "source": [
    "# required imports to access api_db, misc, misc.CONFIG, ...\n",
    "import sys\n",
    "sys.path = ['.', '..', '../..'] + sys.path\n",
    "from collection import *"
   ]
  },
  {
   "cell_type": "markdown",
   "metadata": {},
   "source": [
    "<hr>\n",
    "<h1 align=\"center\">driver code</h1>"
   ]
  },
  {
   "cell_type": "code",
   "execution_count": null,
   "metadata": {},
   "outputs": [],
   "source": [
    "marcelo = {\n",
    "    \"_id\": 0,\n",
    "    \"depth\": 0,\n",
    "    \"user_id\": 0,\n",
    "    \"screen_name\": \"MarceloRebeloDeSousa\",\n",
    "    \"name\": \"Marcelo Rebelo de Sousa\",\n",
    "    \"created_at\": \"Tue Aug 21 12:01:23 +0000 2012\",\n",
    "    \"default_profile\": True,\n",
    "    \"description\": \"Presidente 2016-2021.\",\n",
    "    \"favourites_count\": 0,\n",
    "    \"followers_count\": 0,\n",
    "    \"friends_count\": 0,\n",
    "    \"listed_count\": 0,\n",
    "    \"location\": \"Lisboa, Portugal\",\n",
    "    \"profile_background_color\": \"C0DEED\",\n",
    "    \"profile_image_url\": \"https://user-images.githubusercontent.com/19508417/103826251-64a39980-506e-11eb-9667-e693546bd9b5.jpg\",\n",
    "    \"profile_image_url_https\": \"https://user-images.githubusercontent.com/19508417/103826251-64a39980-506e-11eb-9667-e693546bd9b5.jpg\",\n",
    "    \"statuses_count\": 0,\n",
    "    \"url\": \"https://en.wikipedia.org/wiki/Marcelo_Rebelo_de_Sousa\"\n",
    "}"
   ]
  },
  {
   "cell_type": "code",
   "execution_count": null,
   "metadata": {},
   "outputs": [],
   "source": [
    "upsert_user(marcelo)"
   ]
  },
  {
   "cell_type": "code",
   "execution_count": null,
   "metadata": {
    "tags": []
   },
   "outputs": [],
   "source": [
    "print(\"DONE\")"
   ]
  }
 ],
 "metadata": {
  "kernelspec": {
   "display_name": "env",
   "language": "python",
   "name": "env"
  },
  "language_info": {
   "codemirror_mode": {
    "name": "ipython",
    "version": 3
   },
   "file_extension": ".py",
   "mimetype": "text/x-python",
   "name": "python",
   "nbconvert_exporter": "python",
   "pygments_lexer": "ipython3",
   "version": "3.7.4-final"
  }
 },
 "nbformat": 4,
 "nbformat_minor": 2
}