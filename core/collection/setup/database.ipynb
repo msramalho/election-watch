{
 "cells": [
  {
   "cell_type": "markdown",
   "metadata": {},
   "source": [
    "# Database\n",
    "Create necessary indexes"
   ]
  },
  {
   "cell_type": "code",
   "execution_count": 1,
   "metadata": {
    "tags": []
   },
   "outputs": [
    {
     "output_type": "stream",
     "name": "stdout",
     "text": "using 128 seed accounts and 0 hashtags\nDatabase stats: \n{'avgObjSize': 884.2886597938144,\n 'collections': 2,\n 'dataSize': 171552.0,\n 'db': 'electionswatch',\n 'fsTotalSize': 510770802688.0,\n 'fsUsedSize': 450873319424.0,\n 'indexSize': 135168.0,\n 'indexes': 6,\n 'numExtents': 0,\n 'objects': 194,\n 'ok': 1.0,\n 'scaleFactor': 1.0,\n 'storageSize': 139264.0,\n 'views': 0}\nDB size (B): 171552.0\nDB size (MB): 0.16\nDB size (GB): 0.00\nUsing API keys for app twitta-mos\n\nDone initializing at 08:04PM on September 20, 2020.\n----------------------------------------\n"
    }
   ],
   "source": [
    "# required imports to access api_db, misc, misc.CONFIG, ...\n",
    "import sys\n",
    "sys.path = ['.', '..', '../..'] + sys.path\n",
    "from collection import *"
   ]
  },
  {
   "cell_type": "markdown",
   "metadata": {},
   "source": [
    "<hr>\n",
    "<h1 align=\"center\">driver code</h1>"
   ]
  },
  {
   "cell_type": "markdown",
   "metadata": {},
   "source": [
    "Run all necessary instructions to properly setup the database (idempotent operations)"
   ]
  },
  {
   "cell_type": "code",
   "execution_count": 12,
   "metadata": {
    "tags": []
   },
   "outputs": [
    {
     "output_type": "stream",
     "name": "stdout",
     "text": "creating index on tweets.user...Done in 0.007s.\n"
    }
   ],
   "source": [
    "with DoneMessage(\"creating index on tweets.user\"):\n",
    "    api_db.col_tweets.create_index(\"user\") # faster filter by user\n",
    "    api_db.col_tweets.create_index(\"processed\") # faster find processed: false\n",
    "    # api_db.col_tweets.create_index(\"created_at\") # to filter daily data faster\n",
    "    api_db.col_users.create_index(\"suspended\") # to find suspended users faster\n",
    "\n",
    "    # automatically erase tweets older than one month\n",
    "    api_db.col_tweets.create_index(\"created_at\", expireAfterSeconds=31*24*60*60) # expire after 1 month\n",
    "\n",
    "    # api_db.col_users.create_index(\"screen_name\") # to find users faster by screen_name"
   ]
  },
  {
   "cell_type": "code",
   "execution_count": null,
   "metadata": {},
   "outputs": [],
   "source": [
    "print(\"DONE\")"
   ]
  }
 ],
 "metadata": {
  "kernelspec": {
   "display_name": "Python 3",
   "language": "python",
   "name": "python3"
  },
  "language_info": {
   "codemirror_mode": {
    "name": "ipython",
    "version": 3
   },
   "file_extension": ".py",
   "mimetype": "text/x-python",
   "name": "python",
   "nbconvert_exporter": "python",
   "pygments_lexer": "ipython3",
   "version": "3.7.4-final"
  }
 },
 "nbformat": 4,
 "nbformat_minor": 2
}