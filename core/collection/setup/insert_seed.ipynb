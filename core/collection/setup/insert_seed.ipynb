{
 "cells": [
  {
   "cell_type": "markdown",
   "metadata": {},
   "source": [
    "# Insert Seed\n",
    "read the seed account usernames from the `config.json` file, get their ids and account details and then insert them into the db"
   ]
  },
  {
   "cell_type": "code",
   "execution_count": 1,
   "metadata": {
    "tags": []
   },
   "outputs": [
    {
     "output_type": "stream",
     "name": "stdout",
     "text": "using 128 seed accounts and 0 hashtags\nDatabase stats: \n{'avgObjSize': 0.0,\n 'collections': 0,\n 'dataSize': 0.0,\n 'db': 'electionswatch',\n 'fsTotalSize': 510770802688.0,\n 'fsUsedSize': 450388680704.0,\n 'indexSize': 0.0,\n 'indexes': 0,\n 'numExtents': 0,\n 'objects': 0,\n 'ok': 1.0,\n 'scaleFactor': 1.0,\n 'storageSize': 0.0,\n 'views': 0}\nDB size (B): 0.0\nDB size (MB): 0.00\nDB size (GB): 0.00\nUsing API keys for app twitta-mos\n\nDone initializing at 05:07PM on September 19, 2020.\n----------------------------------------\n"
    }
   ],
   "source": [
    "# required imports to access api_db, misc, misc.CONFIG, ...\n",
    "import sys\n",
    "sys.path = ['.', '..', '../..'] + sys.path\n",
    "from collection import *"
   ]
  },
  {
   "cell_type": "markdown",
   "metadata": {},
   "source": [
    "<hr>\n",
    "<h1 align=\"center\">driver code</h1>"
   ]
  },
  {
   "cell_type": "code",
   "execution_count": 2,
   "metadata": {
    "tags": []
   },
   "outputs": [
    {
     "output_type": "stream",
     "name": "stdout",
     "text": "Found 0 accounts already collected\n"
    }
   ],
   "source": [
    "seed_in_db = api_db.col_users.find(\n",
    "    {\"depth\":0, \"screen_name\": {\"$exists\": True}},\n",
    "    {\"screen_name\": True, \"_id\": False}, no_cursor_timeout=True)\n",
    "already_collected = [u[\"screen_name\"] for u in seed_in_db] # typically this will not be too large\n",
    "print(\"Found %d accounts already collected\" % len(already_collected))"
   ]
  },
  {
   "cell_type": "code",
   "execution_count": 3,
   "metadata": {
    "tags": []
   },
   "outputs": [
    {
     "output_type": "stream",
     "name": "stdout",
     "text": "Only 127 accounts left to fetch and insert\ngot 127/128 accounts (1 not found, suspended or duplicate)\n"
    }
   ],
   "source": [
    "usernames = misc.CONFIG[\"seed\"][\"usernames\"]\n",
    "new_usernames = list(set(usernames) - set(already_collected))\n",
    "print(\"Only %d accounts left to fetch and insert\" % len(new_usernames))\n",
    "seed = get_users_from_usernames(usernames)\n",
    "# if an error occurs it is logged to stdout, if number don't match then it is just a duplicate\n",
    "print(\"got %d/%d accounts (%d not found, suspended or duplicate)\" % (len(seed), len(usernames), len(usernames) - len(seed)))"
   ]
  },
  {
   "cell_type": "code",
   "execution_count": 4,
   "metadata": {},
   "outputs": [],
   "source": [
    "# convert to db format\n",
    "seed = list(map(user_to_db_format, seed))"
   ]
  },
  {
   "cell_type": "code",
   "execution_count": 5,
   "metadata": {},
   "outputs": [],
   "source": [
    "# set their depth=0\n",
    "for s in seed: s[\"depth\"] = 0"
   ]
  },
  {
   "cell_type": "code",
   "execution_count": 6,
   "metadata": {},
   "outputs": [],
   "source": [
    "upsert_users(seed)"
   ]
  },
  {
   "cell_type": "code",
   "execution_count": 7,
   "metadata": {
    "tags": []
   },
   "outputs": [
    {
     "output_type": "stream",
     "name": "stdout",
     "text": "DONE\n"
    }
   ],
   "source": [
    "print(\"DONE\")"
   ]
  }
 ],
 "metadata": {
  "kernelspec": {
   "display_name": "env",
   "language": "python",
   "name": "env"
  },
  "language_info": {
   "codemirror_mode": {
    "name": "ipython",
    "version": 3
   },
   "file_extension": ".py",
   "mimetype": "text/x-python",
   "name": "python",
   "nbconvert_exporter": "python",
   "pygments_lexer": "ipython3",
   "version": "3.7.4-final"
  }
 },
 "nbformat": 4,
 "nbformat_minor": 2
}