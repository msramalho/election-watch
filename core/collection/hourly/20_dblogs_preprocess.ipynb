{
 "cells": [
  {
   "cell_type": "markdown",
   "metadata": {},
   "source": [
    "# DB logs pre-process\n",
    "Every hour, refresh the response for the `/dblogs` endpoint so as to make it almous instantaneous.\n",
    "\n",
    "Include `last_updated` value for the UI.\n",
    "\n",
    "Saves a JSON that can directly be returned by the api."
   ]
  },
  {
   "cell_type": "code",
   "execution_count": null,
   "metadata": {
    "tags": []
   },
   "outputs": [],
   "source": [
    "# required imports to access api_db, misc, misc.CONFIG, ...\n",
    "import sys\n",
    "sys.path = ['.', '..', '../..'] + sys.path\n",
    "from collection import *"
   ]
  },
  {
   "cell_type": "markdown",
   "metadata": {},
   "source": [
    "<hr>\n",
    "<h1 align=\"center\">driver code</h1>"
   ]
  },
  {
   "cell_type": "code",
   "execution_count": null,
   "metadata": {},
   "outputs": [],
   "source": [
    "from datetime import datetime"
   ]
  },
  {
   "cell_type": "code",
   "execution_count": null,
   "metadata": {
    "tags": []
   },
   "outputs": [],
   "source": [
    "max_items = misc.CONFIG[\"api\"][\"dblogs_max_items\"]\n",
    "print(\"Using %d max items from config\" % max_items)"
   ]
  },
  {
   "cell_type": "code",
   "execution_count": null,
   "metadata": {
    "tags": []
   },
   "outputs": [],
   "source": [
    "db_logs = abs_path(\"..\") + os.sep + misc.CONFIG[\"database_logs_file\"]"
   ]
  },
  {
   "cell_type": "code",
   "execution_count": null,
   "metadata": {
    "tags": []
   },
   "outputs": [],
   "source": [
    "with open(db_logs, encoding=\"utf-8\") as f:\n",
    "    total_points = 0\n",
    "    for _ in f: total_points+=1\n",
    "    max_items = min(max_items, total_points)\n",
    "print(\"Found %d total points, using %d\" % (total_points, max_items))"
   ]
  },
  {
   "cell_type": "code",
   "execution_count": null,
   "metadata": {
    "tags": []
   },
   "outputs": [],
   "source": [
    "res = {\"time\": [], \"users\": [], \"tweets\": [], \"mb\": []}\n",
    "with open(db_logs, encoding=\"utf-8\") as f:\n",
    "    steps = total_points // max_items\n",
    "    i = 0\n",
    "    for l in f:\n",
    "        if i == steps:\n",
    "            t, u, tw, m = l.strip().split(\",\")\n",
    "            t = datetime.strptime(t, '%Y-%m-%d %H:%M:%S.%f').replace(microsecond=0)\n",
    "            res[\"time\"].append(str(t))\n",
    "            res[\"users\"].append(u)\n",
    "            res[\"tweets\"].append(tw)\n",
    "            res[\"mb\"].append(int(float(m)))\n",
    "            i = 0\n",
    "        i += 1\n",
    "res[\"last_updated\"] = str(datetime.now())\n",
    "print(\"logs are ready: \", res[\"last_updated\"])"
   ]
  },
  {
   "cell_type": "code",
   "execution_count": null,
   "metadata": {},
   "outputs": [],
   "source": [
    "import json"
   ]
  },
  {
   "cell_type": "code",
   "execution_count": null,
   "metadata": {},
   "outputs": [],
   "source": [
    "db_logs_api = abs_path(\"..\") + os.sep + misc.CONFIG[\"database_logs_file_api\"]"
   ]
  },
  {
   "cell_type": "code",
   "execution_count": null,
   "metadata": {},
   "outputs": [],
   "source": [
    "with open(db_logs_api, \"w\", encoding=\"utf-8\") as outf:\n",
    "    json.dump(res, outf)"
   ]
  },
  {
   "cell_type": "code",
   "execution_count": null,
   "metadata": {
    "tags": []
   },
   "outputs": [],
   "source": [
    "print(\"DONE\")"
   ]
  }
 ],
 "metadata": {
  "kernelspec": {
   "display_name": "Python 3",
   "language": "python",
   "name": "python3"
  },
  "language_info": {
   "codemirror_mode": {
    "name": "ipython",
    "version": 3
   },
   "file_extension": ".py",
   "mimetype": "text/x-python",
   "name": "python",
   "nbconvert_exporter": "python",
   "pygments_lexer": "ipython3",
   "version": "3.7.4-final"
  }
 },
 "nbformat": 4,
 "nbformat_minor": 2
}