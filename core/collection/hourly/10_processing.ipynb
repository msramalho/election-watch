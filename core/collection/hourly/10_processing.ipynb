{
 "cells": [
  {
   "cell_type": "markdown",
   "metadata": {},
   "source": [
    "# Daily Tweet Processing\n",
    "Iterate tweets for a given day and perform some calculations"
   ]
  },
  {
   "cell_type": "code",
   "execution_count": 1,
   "metadata": {
    "tags": []
   },
   "outputs": [
    {
     "output_type": "stream",
     "name": "stdout",
     "text": "using 105 seed accounts (20 from news sources) and 0 hashtags\nDatabase stats: \n{'avgObjSize': 81.86696522187272,\n 'collections': 3,\n 'dataSize': 4606736.0,\n 'db': 'electionswatch',\n 'fsTotalSize': 510770802688.0,\n 'fsUsedSize': 445133578240.0,\n 'indexSize': 970752.0,\n 'indexes': 3,\n 'numExtents': 0,\n 'objects': 56271,\n 'ok': 1.0,\n 'scaleFactor': 1.0,\n 'storageSize': 2363392.0,\n 'views': 0}\nDB size (B): 4606736.0\nDB size (MB): 4.39\nDB size (GB): 0.00\nUsing API keys for app twitta-mos\n\nDone initializing at 01:07AM on September 25, 2020.\n----------------------------------------\n"
    }
   ],
   "source": [
    "# required imports to access api_db, misc, misc.CONFIG, ...\n",
    "import sys\n",
    "sys.path = ['.', '..', '../..'] + sys.path\n",
    "from collection import *"
   ]
  },
  {
   "cell_type": "markdown",
   "metadata": {},
   "source": [
    "<hr>\n",
    "<h1 align=\"center\">driver code</h1>\n",
    "\n",
    "1. Define tasks to execute daily\n",
    "2. Check if these have been executed for each day of the past month\n",
    "3. Execute the ones that have not yet been executed (this ensures that new ones will be retroactively updated)\n",
    "4. "
   ]
  },
  {
   "source": [
    "---\n",
    "Define tasks below - these should be replicated in the api (or maybe make it generably able to access any `task_%s` collection from any endpoint, assuming injection is not a concern atm)"
   ],
   "cell_type": "markdown",
   "metadata": {}
  },
  {
   "cell_type": "code",
   "execution_count": 3,
   "metadata": {},
   "outputs": [],
   "source": [
    "# task 1 - count tweets by type\n",
    "from collections import defaultdict\n",
    "def count_tweets_by_type(day):\n",
    "    task = Task(api_db.db, \"count by type\")\n",
    "    if task.exists_day(day): return # already processed\n",
    "    metrics = defaultdict(int, next(api_db.col_tweets.aggregate([\n",
    "        {\"$match\": {\"created_at\": get_filter_by_day(day)}}, \n",
    "        {\"$facet\": {\n",
    "            \"retweet\": [\n",
    "                {\"$match\": {\"retweeted_status\": {\"$exists\": True}}},\n",
    "                {\"$count\": \"retweet\"},\n",
    "            ],\n",
    "            \"quote\": [\n",
    "                {\"$match\": {\"quoted_status\": {\"$exists\": True}}},\n",
    "                {\"$count\": \"quote\"},\n",
    "            ],\n",
    "            \"reply\": [\n",
    "                {\"$match\": {\"in_reply_to_status_id\": {\"$exists\": True}}},\n",
    "                {\"$count\": \"reply\"},\n",
    "            ],\n",
    "            \"original\": [\n",
    "                {\"$match\": {\"original\": True}},\n",
    "                {\"$count\": \"original\"},\n",
    "            ],\n",
    "            \"total\": [\n",
    "                {\"$count\": \"total\"},\n",
    "            ]\n",
    "        }},\n",
    "        {\"$project\": {\n",
    "            \"retweet\": {\"$arrayElemAt\": [\"$retweet.retweet\", 0]},\n",
    "            \"quote\": {\"$arrayElemAt\": [\"$quote.quote\", 0]},\n",
    "            \"reply\": {\"$arrayElemAt\": [\"$reply.reply\", 0]},\n",
    "            \"original\": {\"$arrayElemAt\": [\"$original.original\", 0]},\n",
    "            \"total\": {\"$arrayElemAt\": [\"$total.total\", 0]}\n",
    "        }}\n",
    "    ])))\n",
    "    # force defaultdict to create 0\n",
    "    [metrics[x] for x in [\"retweet\", \"quote\", \"reply\", \"original\", \"total\"]]\n",
    "    task.insert(day, metrics)"
   ]
  },
  {
   "source": [
    "# Main function that calls declared tasks\n",
    "Each task must be manually registered"
   ],
   "cell_type": "markdown",
   "metadata": {}
  },
  {
   "cell_type": "code",
   "execution_count": 2,
   "metadata": {},
   "outputs": [],
   "source": [
    "from datetime import datetime, timedelta"
   ]
  },
  {
   "cell_type": "code",
   "execution_count": 4,
   "metadata": {},
   "outputs": [],
   "source": [
    "def main_caller(day):\n",
    "    with DoneMessage(\"Processing day %s\" % day):\n",
    "        count_tweets_by_type(day)"
   ]
  },
  {
   "cell_type": "code",
   "execution_count": 5,
   "metadata": {
    "tags": []
   },
   "outputs": [
    {
     "output_type": "stream",
     "name": "stdout",
     "text": "Processing day 2020-09-01 00:00:00...Done in 0.023s.\nProcessing day 2020-09-02 00:00:00...Done in 0.012s.\nProcessing day 2020-09-03 00:00:00...Done in 0.012s.\nProcessing day 2020-09-04 00:00:00...Done in 0.009s.\nProcessing day 2020-09-05 00:00:00...Done in 0.007s.\nProcessing day 2020-09-06 00:00:00...Done in 0.011s.\nProcessing day 2020-09-07 00:00:00...Done in 0.011s.\nProcessing day 2020-09-08 00:00:00...Done in 0.011s.\nProcessing day 2020-09-09 00:00:00...Done in 0.010s.\nProcessing day 2020-09-10 00:00:00...Done in 0.010s.\nProcessing day 2020-09-11 00:00:00...Done in 0.009s.\nProcessing day 2020-09-12 00:00:00...Done in 0.008s.\nProcessing day 2020-09-13 00:00:00...Done in 0.011s.\nProcessing day 2020-09-14 00:00:00...Done in 0.008s.\nProcessing day 2020-09-15 00:00:00...Done in 0.009s.\nProcessing day 2020-09-16 00:00:00...Done in 0.010s.\nProcessing day 2020-09-17 00:00:00...Done in 0.011s.\nProcessing day 2020-09-18 00:00:00...Done in 0.013s.\nProcessing day 2020-09-19 00:00:00...Done in 0.014s.\nProcessing day 2020-09-20 00:00:00...Done in 0.015s.\nProcessing day 2020-09-21 00:00:00...Done in 0.010s.\nProcessing day 2020-09-22 00:00:00...Done in 0.009s.\nProcessing day 2020-09-23 00:00:00...Done in 0.007s.\nProcessing day 2020-09-24 00:00:00...Done in 0.008s.\nProcessing day 2020-09-25 00:00:00...Done in 0.009s.\nProcessing day 2020-09-26 00:00:00...Done in 0.009s.\nProcessing day 2020-09-27 00:00:00...Done in 0.012s.\nProcessing day 2020-09-28 00:00:00...Done in 0.012s.\nProcessing day 2020-09-29 00:00:00...Done in 0.009s.\nProcessing day 2020-09-30 00:00:00...Done in 0.009s.\nProcessing day 2020-10-01 00:00:00...Done in 0.008s.\n"
    }
   ],
   "source": [
    "for day in (misc.CONFIG[\"collection\"][\"oldest_tweet\"] + timedelta(n) for n in range(31)):\n",
    "    main_caller(day)"
   ]
  },
  {
   "cell_type": "code",
   "execution_count": null,
   "metadata": {
    "tags": []
   },
   "outputs": [],
   "source": [
    "# print(get_account_details(20509689))"
   ]
  },
  {
   "cell_type": "code",
   "execution_count": null,
   "metadata": {
    "tags": []
   },
   "outputs": [],
   "source": [
    "# from datetime import timezone\n",
    "# find_params = find_exclude_invalid({\n",
    "#     \"depth\": 0\n",
    "# })\n",
    "# oldest_t = misc.CONFIG[\"collection\"][\"oldest_tweet\"]\n",
    "# # users = api_db.col_users.find(find_params, no_cursor_timeout=True)\n",
    "# users = [{\"_id\": 8665852}]\n",
    "# for u in users:\n",
    "#     print(\"getting tweets for: %s...\" % u[\"_id\"], end=\"\", flush=True)\n",
    "#     tweets = get_tweets(u, api_db.api.GetUserTimeline, \"since_id\",  datetime(2020, 7, 18, tzinfo=timezone.utc), {\"trim_user\":True})\n",
    "#     # insert_tweets(tweets)\n",
    "#     # update_most_common_language(u, tweets) # removed because not useful here\n",
    "#     print(\"got %d new tweets, done.\" % len(tweets))\n",
    "#     if len(tweets) > 0: break"
   ]
  },
  {
   "cell_type": "code",
   "execution_count": null,
   "metadata": {
    "tags": []
   },
   "outputs": [],
   "source": [
    "# # [print(str(t) + \"\\n\") for t in tweets[-10:-1]]\n",
    "# for t in tweets[0:10000]:\n",
    "#     if \"in_reply_to_user_id\" in t:\n",
    "#         print(t)"
   ]
  },
  {
   "cell_type": "code",
   "execution_count": null,
   "metadata": {},
   "outputs": [],
   "source": [
    "misc.CONFIG[\"collection\"][\"oldest_tweet\"]"
   ]
  },
  {
   "cell_type": "code",
   "execution_count": null,
   "metadata": {
    "tags": []
   },
   "outputs": [],
   "source": [
    "\n",
    "for tweet in api_db.col_tweets.find({\"created_at\": {\"$gte\": _from, \"$lt\": _to}}, no_cursor_timeout=True):\n",
    "    print(tweet)\n",
    "    break"
   ]
  },
  {
   "cell_type": "code",
   "execution_count": null,
   "metadata": {},
   "outputs": [],
   "source": [
    "print(\"DONE\")"
   ]
  }
 ],
 "metadata": {
  "kernelspec": {
   "display_name": "Python 3",
   "language": "python",
   "name": "python3"
  },
  "language_info": {
   "codemirror_mode": {
    "name": "ipython",
    "version": 3
   },
   "file_extension": ".py",
   "mimetype": "text/x-python",
   "name": "python",
   "nbconvert_exporter": "python",
   "pygments_lexer": "ipython3",
   "version": "3.7.4-final"
  }
 },
 "nbformat": 4,
 "nbformat_minor": 2
}