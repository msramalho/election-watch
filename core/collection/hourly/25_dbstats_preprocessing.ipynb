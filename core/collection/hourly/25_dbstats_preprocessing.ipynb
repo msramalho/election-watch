{
 "cells": [
  {
   "cell_type": "markdown",
   "metadata": {},
   "source": [
    "# DB stats pre-process\n",
    "Every hour, refresh the response for the `/stats` endpoint so as to make it almous instantaneous.\n",
    "\n",
    "Include `last_updated` value for the UI.\n",
    "\n",
    "Saves a JSON that can directly be returned by the api."
   ]
  },
  {
   "cell_type": "code",
   "execution_count": null,
   "metadata": {
    "tags": []
   },
   "outputs": [],
   "source": [
    "# required imports to access api_db, misc, misc.CONFIG, ...\n",
    "import sys\n",
    "sys.path = ['.', '..', '../..'] + sys.path\n",
    "from collection import *"
   ]
  },
  {
   "cell_type": "markdown",
   "metadata": {},
   "source": [
    "<hr>\n",
    "<h1 align=\"center\">driver code</h1>"
   ]
  },
  {
   "cell_type": "code",
   "execution_count": null,
   "metadata": {},
   "outputs": [],
   "source": [
    "from datetime import datetime, date, timedelta"
   ]
  },
  {
   "cell_type": "code",
   "execution_count": null,
   "metadata": {
    "tags": []
   },
   "outputs": [],
   "source": [
    "# aggregate faceted metrics for users\n",
    "one_month_ago = datetime.now() - timedelta(days=31)\n",
    "faceted_users = next(api_db.col_users.aggregate([\n",
    "    {\"$facet\": {\n",
    "        \"suspended\": [\n",
    "            {\"$match\": {\"suspended\": True}},\n",
    "            {\"$count\": \"suspended\"},\n",
    "        ],\n",
    "        \"private\": [\n",
    "            {\"$match\": {\"private\": True}},\n",
    "            {\"$count\": \"private\"}\n",
    "        ],\n",
    "        \"notfound\": [\n",
    "            {\"$match\": {\"notfound\": True}},\n",
    "            {\"$count\": \"notfound\"}\n",
    "        ] #,\n",
    "        # \"suspended_last_week\": [\n",
    "        #     {\"$match\": {\"suspended\": True, \"time_suspended\": {\"$gte\": datetime.now() - timedelta(days=7)}}},\n",
    "        #     {\"$count\": \"suspended_last_week\"},\n",
    "        # ],\n",
    "        # \"suspended_last_month\": [\n",
    "        #     {\"$match\": {\"suspended\": True, \"time_suspended\": {\"$gte\": datetime.now() - timedelta(days=31)}}},\n",
    "        #     {\"$count\": \"suspended_last_month\"},\n",
    "        # ],\n",
    "        # \"created_last_week\": [\n",
    "        #     {\"$match\": {\"created_at\": {\"$gte\": datetime.now() - timedelta(days=7)}}},\n",
    "        #     {\"$count\": \"created_last_week\"}\n",
    "        # ],\n",
    "        # \"created_last_month\": [\n",
    "        #     {\"$match\": {\"created_at\": {\"$gte\": datetime.now() - timedelta(days=31)}}},\n",
    "        #     {\"$count\": \"created_last_month\"}\n",
    "        # ],\n",
    "        # \"created_last_6_months\": [\n",
    "        #     {\"$match\": {\"created_at\": {\"$gte\": datetime.now() - timedelta(days=31*6)}}},\n",
    "        #     {\"$count\": \"created_last_6_months\"}\n",
    "        # ],\n",
    "        # \"created_since_september\": [\n",
    "        #     {\"$match\": {\"created_at\": {\"$gte\": datetime(2020, 9, 1)}}},\n",
    "        #     {\"$count\": \"created_since_september\"}\n",
    "        # ]\n",
    "    }},\n",
    "    {\"$project\": {\n",
    "        \"suspended\": {\"$arrayElemAt\": [\"$suspended.suspended\", 0]},\n",
    "        \"private\": {\"$arrayElemAt\": [\"$private.private\", 0]},\n",
    "        \"notfound\": {\"$arrayElemAt\": [\"$notfound.notfound\", 0]} #,\n",
    "        # \"suspended last week\": {\"$arrayElemAt\": [\"$suspended_last_week.suspended_last_week\", 0]},\n",
    "        # \"suspended last month\": {\"$arrayElemAt\": [\"$suspended_last_month.suspended_last_month\", 0]},\n",
    "        # \"created last week\": {\"$arrayElemAt\": [\"$created_last_week.created_last_week\", 0]},\n",
    "        # \"created last month\": {\"$arrayElemAt\": [\"$created_last_month.created_last_month\", 0]},\n",
    "        # \"created last 6 months\": {\"$arrayElemAt\": [\"$created_last_6_months.created_last_6_months\", 0]},\n",
    "        # \"created since september 2020\": {\"$arrayElemAt\": [\"$created_since_september.created_since_september\", 0]}\n",
    "    }}\n",
    "]))\n",
    "print(faceted_users)"
   ]
  },
  {
   "cell_type": "code",
   "execution_count": null,
   "metadata": {
    "tags": []
   },
   "outputs": [],
   "source": [
    "# aggregate faceted metrics for tweets\n",
    "faceted_tweets = next(api_db.col_tweets.aggregate([\n",
    "    {\"$facet\": {\n",
    "        \"retweets\": [\n",
    "            {\"$match\": {\"retweeted_status\": {\"$exists\": True}}},\n",
    "            {\"$count\": \"retweets\"},\n",
    "        ],\n",
    "        \"quotes\": [\n",
    "            {\"$match\": {\"quoted_status\": {\"$exists\": True}}},\n",
    "            {\"$count\": \"quotes\"},\n",
    "        ],\n",
    "        \"replies\": [\n",
    "            {\"$match\": {\"in_reply_to_status_id\": {\"$exists\": True}}},\n",
    "            {\"$count\": \"replies\"},\n",
    "        ]\n",
    "    }},\n",
    "    {\"$project\": {\n",
    "        \"retweets\": {\"$arrayElemAt\": [\"$retweets.retweets\", 0]},\n",
    "        \"quotes\": {\"$arrayElemAt\": [\"$quotes.quotes\", 0]},\n",
    "        \"replies\": {\"$arrayElemAt\": [\"$replies.replies\", 0]}\n",
    "    }}\n",
    "]))\n",
    "print(faceted_tweets)"
   ]
  },
  {
   "cell_type": "code",
   "execution_count": null,
   "metadata": {
    "tags": []
   },
   "outputs": [],
   "source": [
    "res = {\n",
    "    \"users\": {\n",
    "        \"total\": api_db.col_users.estimated_document_count()\n",
    "    },\n",
    "    \"tweets\": {\n",
    "        \"total\": api_db.col_tweets.estimated_document_count()\n",
    "    },\n",
    "    \"mb\": int(api_db.db.command(\"dbstats\")[\"dataSize\"] / (1024 * 1024))\n",
    "}\n",
    "print(res)"
   ]
  },
  {
   "cell_type": "code",
   "execution_count": null,
   "metadata": {
    "tags": []
   },
   "outputs": [],
   "source": [
    "res[\"users\"].update(faceted_users)\n",
    "res[\"tweets\"].update(faceted_tweets)\n",
    "tweet_types = [\"retweets\", \"quotes\", \"replies\"]\n",
    "if all(x in res[\"tweets\"] for x in tweet_types):\n",
    "    res[\"tweets\"][\"original\"] = res[\"tweets\"][\"total\"] - sum(res[\"tweets\"][x] for x in tweet_types)\n",
    "print(res)"
   ]
  },
  {
   "cell_type": "code",
   "execution_count": null,
   "metadata": {},
   "outputs": [],
   "source": [
    "import json"
   ]
  },
  {
   "cell_type": "code",
   "execution_count": null,
   "metadata": {},
   "outputs": [],
   "source": [
    "db_stats_api = abs_path(\"..\") + os.sep + misc.CONFIG[\"database_stats_file_api\"]"
   ]
  },
  {
   "cell_type": "code",
   "execution_count": null,
   "metadata": {},
   "outputs": [],
   "source": [
    "with open(db_stats_api, \"w\", encoding=\"utf-8\") as outf:\n",
    "    json.dump(res, outf)"
   ]
  },
  {
   "cell_type": "code",
   "execution_count": null,
   "metadata": {
    "tags": []
   },
   "outputs": [],
   "source": [
    "print(\"DONE\")"
   ]
  }
 ],
 "metadata": {
  "kernelspec": {
   "display_name": "Python 3",
   "language": "python",
   "name": "python3"
  },
  "language_info": {
   "codemirror_mode": {
    "name": "ipython",
    "version": 3
   },
   "file_extension": ".py",
   "mimetype": "text/x-python",
   "name": "python",
   "nbconvert_exporter": "python",
   "pygments_lexer": "ipython3",
   "version": "3.7.4-final"
  }
 },
 "nbformat": 4,
 "nbformat_minor": 2
}