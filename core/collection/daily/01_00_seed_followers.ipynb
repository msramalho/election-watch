{
 "cells": [
  {
   "cell_type": "markdown",
   "metadata": {},
   "source": [
    "# Daily Seed Followers\n",
    "Get the followers from all the seed accounts"
   ]
  },
  {
   "cell_type": "code",
   "execution_count": null,
   "metadata": {},
   "outputs": [],
   "source": [
    "# required imports to access api_db, misc, misc.CONFIG, ...\n",
    "import sys\n",
    "sys.path = ['.', '..', '../..'] + sys.path\n",
    "from collection import *"
   ]
  },
  {
   "cell_type": "markdown",
   "metadata": {},
   "source": [
    "### Conditional Execution\n",
    "Each file needs to verify if it should be executed or not based on the configurations (for some files this is not optional but all should have this section, even if it is tautological). Example:\n",
    "```python\n",
    "if not misc.CONFIG[\"collection\"][\"execute_this_script\"]: exit()\n",
    "```"
   ]
  },
  {
   "cell_type": "code",
   "execution_count": null,
   "metadata": {},
   "outputs": [],
   "source": [
    "# Conditional execution\n",
    "if not misc.CONFIG[\"collection\"][\"seed\"][\"followers\"]: exit()"
   ]
  },
  {
   "cell_type": "markdown",
   "metadata": {},
   "source": [
    "<hr>\n",
    "<h1 align=\"center\">driver code</h1>"
   ]
  },
  {
   "cell_type": "markdown",
   "metadata": {},
   "source": [
    "iterate every user, iterate all their followers -> insert into db"
   ]
  },
  {
   "cell_type": "code",
   "execution_count": null,
   "metadata": {},
   "outputs": [],
   "source": [
    "seed = api_db.col_users.find({\"depth\":0}, {\"depth\": 1}, no_cursor_timeout=True)\n",
    "for user in seed:\n",
    "    print(\"getting followers for:%s\" % user, end=\"\", flush=True)\n",
    "    for follower_ids in paged_followers(user[\"_id\"]):\n",
    "        insert_user_ids(follower_ids, user[\"depth\"] + 1)\n",
    "    print(\"Done\")"
   ]
  },
  {
   "cell_type": "code",
   "execution_count": null,
   "metadata": {},
   "outputs": [],
   "source": [
    "print(\"DONE\")"
   ]
  }
 ],
 "metadata": {
  "kernelspec": {
   "display_name": "Python 3",
   "language": "python",
   "name": "python3"
  },
  "language_info": {
   "codemirror_mode": {
    "name": "ipython",
    "version": 3
   },
   "file_extension": ".py",
   "mimetype": "text/x-python",
   "name": "python",
   "nbconvert_exporter": "python",
   "pygments_lexer": "ipython3",
   "version": "3.7.4"
  }
 },
 "nbformat": 4,
 "nbformat_minor": 2
}
