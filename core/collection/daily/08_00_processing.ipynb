{
 "cells": [
  {
   "cell_type": "markdown",
   "metadata": {},
   "source": [
    "# Daily Tweet Processing\n",
    "Iterate tweets for a given day and perform some calculations"
   ]
  },
  {
   "cell_type": "code",
   "execution_count": 7,
   "metadata": {
    "tags": []
   },
   "outputs": [
    {
     "output_type": "stream",
     "name": "stdout",
     "text": "using 125 seed accounts and 0 hashtags\nDatabase stats: \n{'avgObjSize': 501.34875896872535,\n 'collections': 2,\n 'dataSize': 14603788.0,\n 'db': 'electionswatch',\n 'fsTotalSize': 510770802688.0,\n 'fsUsedSize': 449662533632.0,\n 'indexSize': 1904640.0,\n 'indexes': 6,\n 'numExtents': 0,\n 'objects': 29129,\n 'ok': 1.0,\n 'scaleFactor': 1.0,\n 'storageSize': 7774208.0,\n 'views': 0}\nDB size (B): 14603788.0\nDB size (MB): 13.93\nDB size (GB): 0.01\nUsing API keys for app twitta-mos\n\nDone initializing at 09:30PM on September 23, 2020.\n----------------------------------------\n"
    }
   ],
   "source": [
    "# required imports to access api_db, misc, misc.CONFIG, ...\n",
    "import sys\n",
    "sys.path = ['.', '..', '../..'] + sys.path\n",
    "from collection import *"
   ]
  },
  {
   "cell_type": "markdown",
   "metadata": {},
   "source": [
    "<hr>\n",
    "<h1 align=\"center\">driver code</h1>\n",
    "\n",
    "1. Define tasks to execute daily\n",
    "2. Check if these have been executed for each day of the past month\n",
    "3. Execute the ones that have not yet been executed (this ensures that new ones will be retroactively updated)\n",
    "4. "
   ]
  },
  {
   "cell_type": "code",
   "execution_count": 12,
   "metadata": {},
   "outputs": [],
   "source": [
    "from slugify import slugify\n",
    "import uuid"
   ]
  },
  {
   "cell_type": "code",
   "execution_count": 92,
   "metadata": {},
   "outputs": [],
   "source": [
    "from datetime import datetime, timezone"
   ]
  },
  {
   "cell_type": "code",
   "execution_count": null,
   "metadata": {},
   "outputs": [],
   "source": [
    "def get_filter_by"
   ]
  },
  {
   "cell_type": "code",
   "execution_count": 82,
   "metadata": {},
   "outputs": [],
   "source": [
    "class Task:\n",
    "    # handles a collection task_name\n",
    "    # each document is {_id: uuid, day: day of analysis, data: what to store for this day}\n",
    "    def __init__(self, name):\n",
    "        self.name = slugify(name, separator=\"_\")\n",
    "        self.collection = api_db.db[\"task_%s\" % self.name]\n",
    "        # self.collection.create_index(\"day\") # create index on day\n",
    "\n",
    "    def exists_day(self, day):\n",
    "        # expects datetime\n",
    "        day_start = day.replace(hour=0, minute=0, second=0, microsecond=0)\n",
    "        day_end = day.replace(hour=23, minute=59, second=59, microsecond=0)\n",
    "        return self.collection.find_one({\"day\": {\"$gte\": day_start, \"$lt\": day_end}}) is not None\n",
    "    \n",
    "    def insert(self, day, data):\n",
    "        return self.collection.insert({\"_id\": str(uuid.uuid4()), \"day\": day, \"data\": data})\n",
    "\n",
    "    def get_last_n(self, n=30):\n",
    "        assert n>0, \"n must be greater than 0\"\n",
    "        # retrieve last n entries concatenated\n",
    "        # self.collection.find({})\n",
    "        return list(self.collection.find({}).sort([(\"day\",-1)]).limit(n))\n",
    "\n",
    "    def unzip_last_n(self, n=30):\n",
    "        # returns two lists [days], [datas]\n",
    "        unzip = list(zip(*[(x[\"day\"], x[\"data\"]) for x in self.get_last_n(n)]))\n",
    "        return unzip[0], unzip[1]\n",
    "\n",
    "    def get_last(self): return self.get_last_n(1)[0]"
   ]
  },
  {
   "cell_type": "code",
   "execution_count": 83,
   "metadata": {},
   "outputs": [
    {
     "output_type": "execute_result",
     "data": {
      "text/plain": "(datetime.datetime(2020, 9, 23, 22, 0, 48, 774662), datetime.date(2020, 9, 23))"
     },
     "metadata": {},
     "execution_count": 83
    }
   ],
   "source": [
    "datetime.today(), date.today()"
   ]
  },
  {
   "cell_type": "code",
   "execution_count": 91,
   "metadata": {
    "tags": []
   },
   "outputs": [
    {
     "output_type": "stream",
     "name": "stdout",
     "text": "True\n"
    }
   ],
   "source": [
    "t = Task(\"teste\")\n",
    "# t.insert(datetime.now(), \"lol\")\n",
    "print(t.existsDay(datetime.today()))"
   ]
  },
  {
   "cell_type": "code",
   "execution_count": null,
   "metadata": {},
   "outputs": [],
   "source": []
  },
  {
   "source": [
    "---\n",
    "Define tasks below - these should be replicated in the api (or maybe make it generably able to access any `task_%s` collection from any endpoint, assuming injection is not a concern atm)"
   ],
   "cell_type": "markdown",
   "metadata": {}
  },
  {
   "cell_type": "code",
   "execution_count": null,
   "metadata": {},
   "outputs": [],
   "source": [
    "# task 1 - count tweets by type\n",
    "def count_tweets_by_type(day):\n",
    "    task = Task(\"count by type\")\n",
    "    metrics = = next(api_db.col_tweets.aggregate([\n",
    "        {\"$match\": {\"created_at\": {\"\"}}}, \n",
    "        {\"$facet\": {\n",
    "            \"retweets\": [\n",
    "                {\"$match\": {\"retweeted_status\": {\"$exists\": True}}},\n",
    "                {\"$count\": \"retweets\"},\n",
    "            ],\n",
    "            \"quotes\": [\n",
    "                {\"$match\": {\"quoted_status\": {\"$exists\": True}}},\n",
    "                {\"$count\": \"quotes\"},\n",
    "            ],\n",
    "            \"replies\": [\n",
    "                {\"$match\": {\"in_reply_to_status_id\": {\"$exists\": True}}},\n",
    "                {\"$count\": \"replies\"},\n",
    "            ]\n",
    "        }},\n",
    "        {\"$project\": {\n",
    "            \"retweets\": {\"$arrayElemAt\": [\"$retweets.retweets\", 0]},\n",
    "            \"quotes\": {\"$arrayElemAt\": [\"$quotes.quotes\", 0]},\n",
    "            \"replies\": {\"$arrayElemAt\": [\"$replies.replies\", 0]}\n",
    "        }}\n",
    "    ]))\n",
    "    metrics[\"total\"] = api_db.col_tweets.estimated_document_count()\n"
   ]
  },
  {
   "cell_type": "code",
   "execution_count": 3,
   "metadata": {
    "tags": []
   },
   "outputs": [
    {
     "output_type": "stream",
     "name": "stdout",
     "text": "Error for 4220596858 with error [{'code': 63, 'message': 'User has been suspended.'}] with API Keys from 'twitta-mos' (process_user:GetUser)\n"
    }
   ],
   "source": [
    "get_account_details(4220596858)"
   ]
  },
  {
   "cell_type": "code",
   "execution_count": 4,
   "metadata": {
    "tags": []
   },
   "outputs": [
    {
     "output_type": "stream",
     "name": "stdout",
     "text": "getting tweets for: 4220596858...Error for 4220596858 with error [{'message': 'Rate limit exceeded', 'code': 88}] with API Keys from 'twitta-mos' (get_tweets:GetUserTimeline)\nUsing API keys for app elect-me\nError for 4220596858 with error [{'message': 'Rate limit exceeded', 'code': 88}] with API Keys from 'elect-me' (get_tweets:GetUserTimeline)\nUsing API keys for app feupg1\nError for 4220596858 with error [{'message': 'Rate limit exceeded', 'code': 88}] with API Keys from 'feupg1' (get_tweets:GetUserTimeline)\nUsing API keys for app feupg2\nError for 4220596858 with error [{'message': 'Rate limit exceeded', 'code': 88}] with API Keys from 'feupg2' (get_tweets:GetUserTimeline)\nUsing API keys for app feupg3\nError for 4220596858 with error [{'message': 'Rate limit exceeded', 'code': 88}] with API Keys from 'feupg3' (get_tweets:GetUserTimeline)\nUsing API keys for app feupado1\nError for 4220596858 with error [{'message': 'Rate limit exceeded', 'code': 88}] with API Keys from 'feupado1' (get_tweets:GetUserTimeline)\nUsing API keys for app feupadog2\nError for 4220596858 with error [{'message': 'Rate limit exceeded', 'code': 88}] with API Keys from 'feupadog2' (get_tweets:GetUserTimeline)\nUsing API keys for app feupadog3\nError for 4220596858 with error [{'message': 'Rate limit exceeded', 'code': 88}] with API Keys from 'feupadog3' (get_tweets:GetUserTimeline)\nUsing API keys for app feupg4\nError for 4220596858 with error [{'message': 'Rate limit exceeded', 'code': 88}] with API Keys from 'feupg4' (get_tweets:GetUserTimeline)\nUsing API keys for app feupg5\nError for 4220596858 with error [{'message': 'Rate limit exceeded', 'code': 88}] with API Keys from 'feupg5' (get_tweets:GetUserTimeline)\nUsing API keys for app feupg7\nError for 4220596858 with error [{'message': 'Rate limit exceeded', 'code': 88}] with API Keys from 'feupg7' (get_tweets:GetUserTimeline)\nUsing API keys for app feupadog4\nError for 4220596858 with error [{'message': 'Rate limit exceeded', 'code': 88}] with API Keys from 'feupadog4' (get_tweets:GetUserTimeline)\nUsing API keys for app feupadog5\nError for 4220596858 with error [{'message': 'Rate limit exceeded', 'code': 88}] with API Keys from 'feupadog5' (get_tweets:GetUserTimeline)\nUsing API keys for app feupadog6\nError for 4220596858 with error [{'message': 'Rate limit exceeded', 'code': 88}] with API Keys from 'feupadog6' (get_tweets:GetUserTimeline)\nUsing API keys for app toni_1\nError for 4220596858 with error [{'message': 'Rate limit exceeded', 'code': 88}] with API Keys from 'toni_1' (get_tweets:GetUserTimeline)\nUsing API keys for app toni_2\nError for 4220596858 with error [{'message': 'Rate limit exceeded', 'code': 88}] with API Keys from 'toni_2' (get_tweets:GetUserTimeline)\nUsing API keys for app toni_3\nError for 4220596858 with error [{'message': 'Rate limit exceeded', 'code': 88}] with API Keys from 'toni_3' (get_tweets:GetUserTimeline)\nUsing API keys for app damas1\nError for 4220596858 with error [{'message': 'Rate limit exceeded', 'code': 88}] with API Keys from 'damas1' (get_tweets:GetUserTimeline)\nUsing API keys for app damas2\nError for 4220596858 with error [{'message': 'Rate limit exceeded', 'code': 88}] with API Keys from 'damas2' (get_tweets:GetUserTimeline)\nUsing API keys for app feupg7\nError for 4220596858 with error [{'message': 'Rate limit exceeded', 'code': 88}] with API Keys from 'feupg7' (get_tweets:GetUserTimeline)\nUsing API keys for app feupg8\nError for 4220596858 with error [{'message': 'Rate limit exceeded', 'code': 88}] with API Keys from 'feupg8' (get_tweets:GetUserTimeline)\nUsing API keys for app feupadog7\nError for 4220596858 with error [{'message': 'Rate limit exceeded', 'code': 88}] with API Keys from 'feupadog7' (get_tweets:GetUserTimeline)\nUsing API keys for app feupadog8\nError for 4220596858 with error [{'message': 'Rate limit exceeded', 'code': 88}] with API Keys from 'feupadog8' (get_tweets:GetUserTimeline)\nUsing API keys for app feupadog9\nError for 4220596858 with error [{'message': 'Rate limit exceeded', 'code': 88}] with API Keys from 'feupadog9' (get_tweets:GetUserTimeline)\nUsing API keys for app damas3\nError for 4220596858 with error [{'message': 'Rate limit exceeded', 'code': 88}] with API Keys from 'damas3' (get_tweets:GetUserTimeline)\nUsing API keys for app toni_4\nError for 4220596858 with error [{'message': 'Rate limit exceeded', 'code': 88}] with API Keys from 'toni_4' (get_tweets:GetUserTimeline)\nUsing API keys for app toni_5\nError for 4220596858 with error [{'message': 'Rate limit exceeded', 'code': 88}] with API Keys from 'toni_5' (get_tweets:GetUserTimeline)\nUsing API keys for app toni_6\nError for 4220596858 with error [{'message': 'Rate limit exceeded', 'code': 88}] with API Keys from 'toni_6' (get_tweets:GetUserTimeline)\nUsing API keys for app feupado10\nError for 4220596858 with error [{'message': 'Rate limit exceeded', 'code': 88}] with API Keys from 'feupado10' (get_tweets:GetUserTimeline)\nUsing API keys for app danieladeixas_1\nError for 4220596858 with error [{'message': 'Rate limit exceeded', 'code': 88}] with API Keys from 'danieladeixas_1' (get_tweets:GetUserTimeline)\nUsing API keys for app danieladeixas_2\nError for 4220596858 with error [{'message': 'Rate limit exceeded', 'code': 88}] with API Keys from 'danieladeixas_2' (get_tweets:GetUserTimeline)\nUsing API keys for app danieladeixas_3\nError for 4220596858 with error [{'message': 'Rate limit exceeded', 'code': 88}] with API Keys from 'danieladeixas_3' (get_tweets:GetUserTimeline)\nUsing API keys for app xavier_1\nError for 4220596858 with error [{'message': 'Rate limit exceeded', 'code': 88}] with API Keys from 'xavier_1' (get_tweets:GetUserTimeline)\nUsing API keys for app xavier_2\nError for 4220596858 with error Not authorized. with API Keys from 'xavier_2' (get_tweets:GetUserTimeline)\nError for 4220596858 with error [{'code': 63, 'message': 'User has been suspended.'}] with API Keys from 'xavier_2' (process_user:GetUser)\ngot 0 new tweets, done.\n"
    }
   ],
   "source": [
    "find_params = find_exclude_invalid({\n",
    "    \"depth\": 0\n",
    "})\n",
    "oldest_t = misc.CONFIG[\"collection\"][\"oldest_tweet\"]\n",
    "# users = api_db.col_users.find(find_params, no_cursor_timeout=True)\n",
    "users = [{\"_id\": 4220596858}]\n",
    "for u in users:\n",
    "    print(\"getting tweets for: %s...\" % u[\"_id\"], end=\"\", flush=True)\n",
    "    tweets = get_tweets(u, api_db.api.GetUserTimeline, \"since_id\",  datetime(2020, 7, 18, tzinfo=timezone.utc), {\"trim_user\":True})\n",
    "    insert_tweets(tweets)\n",
    "    # update_most_common_language(u, tweets) # removed because not useful here\n",
    "    print(\"got %d new tweets, done.\" % len(tweets))\n",
    "    if len(tweets) > 0: break"
   ]
  },
  {
   "source": [
    "### processing steps for each day\n",
    "* "
   ],
   "cell_type": "markdown",
   "metadata": {}
  },
  {
   "cell_type": "code",
   "execution_count": 5,
   "metadata": {
    "tags": []
   },
   "outputs": [
    {
     "output_type": "stream",
     "name": "stdout",
     "text": "https://twitter.com/YouTube\nhttps://twitter.com/Flamengo\nhttps://twitter.com/AndreCVentura\nhttps://twitter.com/realDonaldTrump\nhttps://twitter.com/jairbolsonaro\nhttps://twitter.com/IdiazAyuso\nhttps://twitter.com/RicFazeres\nhttps://twitter.com/SLBenfica\nhttps://twitter.com/narendramodi\nhttps://twitter.com/marcosbrazrio\nhttps://twitter.com/g1\nhttps://twitter.com/folha\nhttps://twitter.com/kheayf\nhttps://twitter.com/TiniStoessel\nhttps://twitter.com/Estadao\nhttps://twitter.com/JoeBiden\nhttps://twitter.com/antoniocostapm\nhttps://twitter.com/lmtf0981\nhttps://twitter.com/UOL\nhttps://twitter.com/FoxSportsBrasil\nhttps://twitter.com/a_john\nhttps://twitter.com/insoniascarvao\nhttps://twitter.com/yourcenar1234\nhttps://twitter.com/JanainaDoBrasil\nhttps://twitter.com/Celinha741\nhttps://twitter.com/Adriana_Az27\nhttps://twitter.com/pablocasado_\nhttps://twitter.com/missjulialee\nhttps://twitter.com/vonderleyen\nhttps://twitter.com/YesPISTLiberty\nhttps://twitter.com/TeamYouTube\nhttps://twitter.com/IainColledge\nhttps://twitter.com/CarlaPi11463031\nhttps://twitter.com/LOS40_RD\nhttps://twitter.com/MarkHoliday17\nhttps://twitter.com/Tobias_Ellwood\nhttps://twitter.com/stephenj_colvin\nhttps://twitter.com/thnxweh\nhttps://twitter.com/dvsk__\nhttps://twitter.com/observadorpt\nhttps://twitter.com/Rconstantino\nhttps://twitter.com/pedropi38475565\nhttps://twitter.com/ignacioaguado\nhttps://twitter.com/sanchezcastejon\nhttps://twitter.com/M_Matos61\nhttps://twitter.com/i_melosampaio\nhttps://twitter.com/UOLNoticias\nhttps://twitter.com/gugachacra\nhttps://twitter.com/SenadoFederal\nhttps://twitter.com/el_pais\n"
    }
   ],
   "source": [
    "ids = [10228272,59591856,1097962618596327424,25073877,128372940,140034129,548469532,21390437,18839785,460343731,8802752,14594813,2573549978,550281859,9317502,939091,718009445863788544,1052575513007587328,70799317,420535612,18670794,3436726391,977668818045751297,759001618884939776,1053687552559980546,912230745057431552,523386042,1153514249681014784,1146329871418843136,1135281351677161472,3031071234,17535349,1210301128350584833,257075159,1297365654455156736,482866177,1706955559,939472695724568579,2790564174,1690412382,33520195,548741359,143538142,68740712,1041852964959383552,781067873737404416,14594698,45409867,40095953,7996082]\n",
    "for _id in ids:\n",
    "    uu = api_db.get_account_details(user_id=_id).AsDict()\n",
    "    print(\"https://twitter.com/%s\" % uu[\"screen_name\"])"
   ]
  },
  {
   "cell_type": "code",
   "execution_count": 12,
   "metadata": {
    "tags": []
   },
   "outputs": [
    {
     "output_type": "stream",
     "name": "stdout",
     "text": "2020-07-18 00:00:00 2020-08-25 00:00:00\n"
    }
   ],
   "source": [
    "_from = datetime(2020, 7, 18)\n",
    "_to = datetime(2020, 8, 25)\n",
    "print(_from, _to)"
   ]
  },
  {
   "cell_type": "code",
   "execution_count": 13,
   "metadata": {},
   "outputs": [
    {
     "output_type": "execute_result",
     "data": {
      "text/plain": "datetime.datetime(2020, 9, 1, 0, 0, tzinfo=datetime.timezone.utc)"
     },
     "metadata": {},
     "execution_count": 13
    }
   ],
   "source": [
    "misc.CONFIG[\"collection\"][\"oldest_tweet\"]"
   ]
  },
  {
   "cell_type": "code",
   "execution_count": 14,
   "metadata": {
    "tags": []
   },
   "outputs": [
    {
     "output_type": "stream",
     "name": "stdout",
     "text": "{'_id': 1296716396240543744, 'created_at': datetime.datetime(2020, 8, 21, 7, 50, 55), 'favorite_count': 22, 'full_text': 'Estatuto do Antigo Combatente já foi publicado. Entra em vigor a 1 de setembro. https://t.co/xjNtyPhLgk', 'lang': 'pt', 'quoted_status': {'created_at': 'Fri Aug 21 07:47:27 +0000 2020', 'favorite_count': 16, 'full_text': 'Cá está a confirmação de um momento histórico para os ex-Combatentes, e, sobretudo, para Portugal que assume a sua responsabilidade histórica.\\nhttps://t.co/HDp8dpg3q9', 'lang': 'pt', 'retweet_count': 3, 'source': '<a href=\"http://twitter.com/download/iphone\" rel=\"nofollow\">Twitter for iPhone</a>', 'urls': [{'expanded_url': 'http://pt.cision.com/files/press/2020/08/88171733.pdf', 'url': 'https://t.co/HDp8dpg3q9'}], 'user': 1690036087, '_id': 1296715526245421056, 'original': True}, 'retweet_count': 7, 'source': '<a href=\"http://twitter.com/download/iphone\" rel=\"nofollow\">Twitter for iPhone</a>', 'urls': [{'expanded_url': 'https://twitter.com/JoaoCravinho/status/1296715526245421056', 'url': 'https://t.co/xjNtyPhLgk'}], 'user': 22780877, 'processed': False, 'collected_at': datetime.datetime(2020, 9, 20, 17, 48, 32, 556000)}\n"
    }
   ],
   "source": [
    "\n",
    "for tweet in api_db.col_tweets.find({\"created_at\": {\"$gte\": _from, \"$lt\": _to}}, no_cursor_timeout=True):\n",
    "    print(tweet)\n",
    "    break"
   ]
  },
  {
   "cell_type": "code",
   "execution_count": null,
   "metadata": {},
   "outputs": [],
   "source": [
    "print(\"DONE\")"
   ]
  }
 ],
 "metadata": {
  "kernelspec": {
   "display_name": "Python 3",
   "language": "python",
   "name": "python3"
  },
  "language_info": {
   "codemirror_mode": {
    "name": "ipython",
    "version": 3
   },
   "file_extension": ".py",
   "mimetype": "text/x-python",
   "name": "python",
   "nbconvert_exporter": "python",
   "pygments_lexer": "ipython3",
   "version": "3.7.4-final"
  }
 },
 "nbformat": 4,
 "nbformat_minor": 2
}