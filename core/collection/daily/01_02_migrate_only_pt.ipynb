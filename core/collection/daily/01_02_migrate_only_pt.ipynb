{
 "cells": [
  {
   "cell_type": "markdown",
   "metadata": {},
   "source": [
    "# Migration remove brasilian-pt accounts"
   ]
  },
  {
   "cell_type": "code",
   "execution_count": null,
   "metadata": {
    "tags": []
   },
   "outputs": [],
   "source": [
    "# required imports to access api_db, misc, misc.CONFIG, ...\n",
    "import sys\n",
    "sys.path = ['.', '..', '../..'] + sys.path\n",
    "from collection import *"
   ]
  },
  {
   "cell_type": "markdown",
   "metadata": {},
   "source": [
    "<hr>\n",
    "<h1 align=\"center\">driver code</h1>"
   ]
  },
  {
   "cell_type": "markdown",
   "metadata": {},
   "source": [
    "Run all necessary instructions to properly setup the database (idempotent operations)"
   ]
  },
  {
   "cell_type": "code",
   "execution_count": null,
   "metadata": {},
   "outputs": [],
   "source": [
    "from pymongo import DeleteMany, DeleteOne\n",
    "class BatchRemover:\n",
    "    def __init__(self, batch_size=500):\n",
    "        self.batch_size = batch_size\n",
    "\n",
    "    def __enter__(self):\n",
    "        self.batch_users = []\n",
    "        self.batch_tweets = []\n",
    "        return self\n",
    "\n",
    "    def __exit__(self, _type, _value, _traceback):\n",
    "        # delete any if missing\n",
    "        print(\"Batch removing ended, looking for missing batches to send\")\n",
    "        if len(self.batch_users): self.perform_delete_users()\n",
    "        if len(self.batch_tweets): self.perform_delete_tweets()\n",
    "\n",
    "    def delete_user(self, user):\n",
    "        self.batch_users.append(DeleteOne({\"_id\": user[\"_id\"]}))\n",
    "        self.batch_tweets.append(DeleteMany({\"user\": user['_id']}))\n",
    "        self.check_pending_deletes() # check if enough to perform db operation\n",
    "\n",
    "    def check_pending_deletes(self):\n",
    "        if len(self.batch_users) > self.batch_size: self.perform_delete_users()\n",
    "        if len(self.batch_tweets) > self.batch_size: self.perform_delete_tweets()\n",
    "    \n",
    "    def perform_delete_users(self):\n",
    "        # send batch delete to db\n",
    "        api_db.col_users.bulk_write(self.batch_users, ordered=False)\n",
    "        print(\"Deleted another batch of %d users\" % self.batch_size)\n",
    "        self.batch_users = []\n",
    "    \n",
    "    def perform_delete_tweets(self):\n",
    "        # send batch delete to db\n",
    "        api_db.col_tweets.bulk_write(self.batch_tweets, ordered=False)\n",
    "        print(\"Deleted another batch of %d user tweets\" % self.batch_size)\n",
    "        self.batch_tweets = []"
   ]
  },
  {
   "cell_type": "code",
   "execution_count": null,
   "metadata": {},
   "outputs": [],
   "source": [
    "foreign_locations = [\"rio de janeiro\", \"salvador\", \"itabuna\", \"bahia\", \"recife\", \"copa\", \"fortaleza\", \"manaus\", \"brazil\", \"sao paulo\", \"são paulo\", \"maracanã\", \"maracana\", \"belo horizonte\", \"🇧🇷\", \"mato grosso\", \"mato g.\", \"curitiba\", \"alagoinhas\", \"rj\", \"brasilia\", \"brasília\", \"porto alegre\", \"brazuca\" \"-br\", \"🇪🇸\", \"spain\", \"madrid\", \"🇺🇸\", \"espana\", \"españa\", \"italia\", \"italy\", \"rome\", \"greece\", \"athens\", \"aθήνα\", \"eλλάδα\", \"🇫🇷\", \"france\", \"paris\"]\n",
    "foreign_descriptions = [\"brasil\", \"brazil\", \"bolsonaro\", \"lula\", \"🇧🇷\", \"brazuca\", \" br \", \"🇪🇸\", \"🇺🇸\", \"🇫🇷\"]\n",
    "\n",
    "def is_foreign(user):\n",
    "    loc = user[\"location\"].lower() if \"location\" in user else \"\"\n",
    "    desc = user[\"description\"].lower() if \"description\" in user else \"\"\n",
    "    if \"portugal\" in loc: return False\n",
    "    \n",
    "    if len(loc) and any(x in loc for x in foreign_locations): return True\n",
    "    if len(desc) and any(x in desc for x in foreign_descriptions): return True\n",
    "    return False"
   ]
  },
  {
   "cell_type": "code",
   "execution_count": null,
   "metadata": {
    "tags": []
   },
   "outputs": [],
   "source": [
    "find_params = find_exclude_invalid({\"depth\": {\"$gt\": 0}})\n",
    "counter = 0\n",
    "with BatchRemover(500) as remover:\n",
    "    for user in api_db.col_users.find(find_params, {\"location\": True, \"description\": True}):\n",
    "        if is_foreign(user): # remove these users's tweets and then the users\n",
    "            counter+=1\n",
    "            remover.delete_user(user)"
   ]
  },
  {
   "cell_type": "code",
   "execution_count": null,
   "metadata": {},
   "outputs": [],
   "source": [
    "print(\"Removed %d foreign users with location\" % counter)"
   ]
  },
  {
   "cell_type": "code",
   "execution_count": null,
   "metadata": {
    "tags": []
   },
   "outputs": [],
   "source": [
    "# remove accounts that are not tweeting in portuguese with more than 50 tweets and less than 10% of pt content\n",
    "foreign_users = api_db.col_users.find({\n",
    "    \"count_parsed_tweets\": {\"$gte\": 50},\n",
    "    \"most_common_language\": {\"$not\": {\"$in\": [\"pt\", \"und\"]}},\n",
    "    \"$or\": [\n",
    "        {\"tweeted_languages.pt\": {\"$exists\": False}},\n",
    "        {\"tweeted_languages.pt\": {\"$lte\": 5}}\n",
    "    ]\n",
    "}, {})\n",
    "counter = 0\n",
    "with BatchRemover(500) as remover:\n",
    "    for user in foreign_users:\n",
    "        counter+=1\n",
    "        remover.delete_user(user)\n"
   ]
  },
  {
   "cell_type": "code",
   "execution_count": null,
   "metadata": {},
   "outputs": [],
   "source": [
    "print(\"Removed %d foreign users with most_common_language 1\" % counter)"
   ]
  },
  {
   "cell_type": "code",
   "execution_count": null,
   "metadata": {},
   "outputs": [],
   "source": [
    "# remove accounts that are not tweeting in portuguese with more than 25 tweets and less than 10% of pt content\n",
    "foreign_users = api_db.col_users.find({\n",
    "    \"count_parsed_tweets\": {\"$gte\": 25},\n",
    "    \"most_common_language\": {\"$not\": {\"$in\": [\"pt\", \"und\"]}},\n",
    "    \"$and\": [\n",
    "    {\"$or\": [\n",
    "        {\"follows_political\": {\"$lte\": 2}},\n",
    "        {\"follows_political\": {\"$exists\": False}}\n",
    "    ]},\n",
    "    {\"$or\": [\n",
    "        {\"tweeted_languages.pt\": {\"$exists\": False}},\n",
    "        {\"tweeted_languages.pt\": {\"$lte\": 2}}\n",
    "    ]}\n",
    "    ]\n",
    "}, {})\n",
    "counter = 0\n",
    "with BatchRemover(500) as remover:\n",
    "    for user in foreign_users:\n",
    "        counter+=1\n",
    "        remover.delete_user(user)\n"
   ]
  },
  {
   "cell_type": "code",
   "execution_count": null,
   "metadata": {
    "tags": []
   },
   "outputs": [],
   "source": [
    "print(\"Removed %d foreign users with most_common_language 2\" % counter)"
   ]
  },
  {
   "cell_type": "code",
   "execution_count": null,
   "metadata": {
    "tags": []
   },
   "outputs": [],
   "source": [
    "print(\"DONE\")"
   ]
  }
 ],
 "metadata": {
  "kernelspec": {
   "display_name": "Python 3",
   "language": "python",
   "name": "python3"
  },
  "language_info": {
   "codemirror_mode": {
    "name": "ipython",
    "version": 3
   },
   "file_extension": ".py",
   "mimetype": "text/x-python",
   "name": "python",
   "nbconvert_exporter": "python",
   "pygments_lexer": "ipython3",
   "version": "3.7.4-final"
  }
 },
 "nbformat": 4,
 "nbformat_minor": 2
}