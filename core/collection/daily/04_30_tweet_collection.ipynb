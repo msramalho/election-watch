{
 "cells": [
  {
   "cell_type": "markdown",
   "metadata": {},
   "source": [
    "# Daily Tweet Collection\n",
    "Iterate all existing user accounts and get all their tweets since `since_id` (last collected tweet, ideally the day before) or `misc.CONIFG[\"oldest_tweet\"]`\n",
    "\n",
    "Additionally:\n",
    "* identify suspensions on a daily basis and mark the suspension day."
   ]
  },
  {
   "cell_type": "code",
   "execution_count": 1,
   "metadata": {
    "tags": []
   },
   "outputs": [
    {
     "output_type": "stream",
     "name": "stdout",
     "text": "using 105 seed accounts (20 from news sources) and 0 hashtags\nDatabase stats: \n{'avgObjSize': 102.53848223444147,\n 'collections': 3,\n 'dataSize': 6097861.0,\n 'db': 'electionswatch',\n 'fsTotalSize': 510770802688.0,\n 'fsUsedSize': 445008846848.0,\n 'indexSize': 1077248.0,\n 'indexes': 3,\n 'numExtents': 0,\n 'objects': 59469,\n 'ok': 1.0,\n 'scaleFactor': 1.0,\n 'storageSize': 3387392.0,\n 'views': 0}\nDB size (B): 6097861.0\nDB size (MB): 5.82\nDB size (GB): 0.01\nUsing API keys for app albertina_01\n\nDone initializing at 07:12PM on September 26, 2020.\n----------------------------------------\n"
    }
   ],
   "source": [
    "# required imports to access api_db, misc, misc.CONFIG, ...\n",
    "import sys\n",
    "sys.path = ['.', '..', '../..'] + sys.path\n",
    "from collection import *"
   ]
  },
  {
   "cell_type": "markdown",
   "metadata": {},
   "source": [
    "### Conditional Execution\n",
    "Each file needs to verify if it should be executed or not based on the configurations (for some files this is not optional but all should have this section, even if it is tautological). Example:\n",
    "```python\n",
    "if not misc.CONFIG[\"collection\"][\"execute_this_script\"]: exit()\n",
    "```"
   ]
  },
  {
   "cell_type": "code",
   "execution_count": 2,
   "metadata": {},
   "outputs": [],
   "source": [
    "# Conditional execution\n",
    "pass"
   ]
  },
  {
   "cell_type": "markdown",
   "metadata": {},
   "source": [
    "<hr>\n",
    "<h1 align=\"center\">driver code</h1>"
   ]
  },
  {
   "cell_type": "markdown",
   "metadata": {},
   "source": [
    "The users where we will search for tweets are users that either don't have a `most_common_language` yet or whose `most_common_language` is in `config.collection.search_languages` and with `depth<=2`"
   ]
  },
  {
   "cell_type": "code",
   "execution_count": 3,
   "metadata": {},
   "outputs": [],
   "source": [
    "def task(skip, limit):\n",
    "    from collections import Counter\n",
    "\n",
    "    oldest_t = misc.CONFIG[\"collection\"][\"oldest_tweet\"]\n",
    "    since_id_key = \"since_id\"\n",
    "    print(\"Collection with oldest tweet at %s and key for since_id '%s'\" % (oldest_t, since_id_key))\n",
    "\n",
    "    def update_most_common_language(user, tweets):\n",
    "        # assumes tweets are all from the same user\n",
    "        # returns dict of {lang:count}\n",
    "        if not len(tweets): return\n",
    "        lang = \"tweeted_languages\"\n",
    "        user[lang] = dict_key_or_default(user, lang, {})\n",
    "        new_langs = Counter(map(lambda x: dict_key_or_default(x, \"lang\", \"und\"), tweets))\n",
    "        for k, v in new_langs.items():\n",
    "            user[lang][k] = dict_key_or_default(user[lang], k, 0) + v\n",
    "        # always update the most_common_language\n",
    "        user[\"most_common_language\"] = dict_key_for_max_val(user[lang])\n",
    "        # update the number of tweets analyzed for this user\n",
    "        user[\"count_parsed_tweets\"] = sum(user[lang].values())\n",
    "        # finally update in db\n",
    "        upsert_user(user)\n",
    "\n",
    "    find_params = find_exclude_invalid({\n",
    "        \"depth\": {\"$lte\": 1}\n",
    "    })\n",
    "    users = api_db.col_users.find(find_params, {since_id_key: True, \"suspended\": True}, no_cursor_timeout=True).skip(skip).limit(limit)\n",
    "\n",
    "    for u in users:\n",
    "        print(\"getting tweets for: %s...\" % u[\"_id\"], end=\"\", flush=True)\n",
    "        if \"suspended\" in u: u = update_account_details_on_suspended(u)\n",
    "        tweets = get_tweets(u, api_db.api.GetUserTimeline, since_id_key, oldest_t, {\"trim_user\":True})\n",
    "        insert_tweets(tweets)\n",
    "        update_most_common_language(u, tweets)\n",
    "        print(\"got %d new tweets, done.\" % len(tweets))"
   ]
  },
  {
   "cell_type": "code",
   "execution_count": 4,
   "metadata": {
    "tags": []
   },
   "outputs": [
    {
     "output_type": "stream",
     "name": "stdout",
     "text": "Collection with oldest tweet at 2020-09-01 00:00:00+00:00 and key for since_id 'since_id'\ngetting tweets for: 94081671...got 3206 new tweets, done.\n"
    }
   ],
   "source": [
    "task(0, 100)"
   ]
  },
  {
   "cell_type": "code",
   "execution_count": 3,
   "metadata": {
    "tags": []
   },
   "outputs": [
    {
     "output_type": "stream",
     "name": "stdout",
     "text": "Total to process: 52421\n"
    }
   ],
   "source": [
    "find_params = find_exclude_invalid({\n",
    "    \"depth\": {\"$lte\": 1}\n",
    "})\n",
    "total = api_db.col_users.count_documents(find_params)\n",
    "print(\"Total to process: %d\" % total)"
   ]
  },
  {
   "cell_type": "code",
   "execution_count": null,
   "metadata": {},
   "outputs": [],
   "source": [
    "max_threads = misc.CONFIG[\"collection\"][\"max_threads\"]\n",
    "batch_size = int(total/max_threads)+1000\n",
    "dp = DynamicParallelism(total, task, \"tweet_collection\", batch_size=batch_size, max_threads=max_threads)"
   ]
  },
  {
   "cell_type": "code",
   "execution_count": null,
   "metadata": {},
   "outputs": [],
   "source": [
    "dp.run()"
   ]
  },
  {
   "cell_type": "code",
   "execution_count": null,
   "metadata": {},
   "outputs": [],
   "source": [
    "print(\"DONE\")"
   ]
  }
 ],
 "metadata": {
  "kernelspec": {
   "display_name": "Python 3",
   "language": "python",
   "name": "python3"
  },
  "language_info": {
   "codemirror_mode": {
    "name": "ipython",
    "version": 3
   },
   "file_extension": ".py",
   "mimetype": "text/x-python",
   "name": "python",
   "nbconvert_exporter": "python",
   "pygments_lexer": "ipython3",
   "version": "3.7.4-final"
  }
 },
 "nbformat": 4,
 "nbformat_minor": 2
}