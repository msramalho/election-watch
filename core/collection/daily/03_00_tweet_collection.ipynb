{
 "cells": [
  {
   "cell_type": "markdown",
   "metadata": {},
   "source": [
    "# Daily Tweet Collection\n",
    "Iterate all existing user accounts and get all their tweets since `since_id` (last collected tweet, ideally the day before) or `misc.CONIFG[\"oldest_tweet\"]`\n",
    "\n",
    "Additionally:\n",
    "* identify suspensions on a daily basis and mark the suspension day."
   ]
  },
  {
   "cell_type": "code",
   "execution_count": null,
   "metadata": {},
   "outputs": [],
   "source": [
    "# required imports to access api_db, misc, misc.CONFIG, ...\n",
    "import sys\n",
    "sys.path = ['.', '..', '../..'] + sys.path\n",
    "from collection import *"
   ]
  },
  {
   "cell_type": "markdown",
   "metadata": {},
   "source": [
    "### Conditional Execution\n",
    "Each file needs to verify if it should be executed or not based on the configurations (for some files this is not optional but all should have this section, even if it is tautological). Example:\n",
    "```python\n",
    "if not misc.CONFIG[\"collection\"][\"execute_this_script\"]: exit()\n",
    "```"
   ]
  },
  {
   "cell_type": "code",
   "execution_count": null,
   "metadata": {},
   "outputs": [],
   "source": [
    "# Conditional execution\n",
    "pass"
   ]
  },
  {
   "cell_type": "markdown",
   "metadata": {},
   "source": [
    "<hr>\n",
    "<h1 align=\"center\">driver code</h1>"
   ]
  },
  {
   "cell_type": "markdown",
   "metadata": {},
   "source": [
    "The users where we will search for tweets are users that either don't have a `most_common_language` yet or whose `most_common_language` is in `config.collection.search_languages` and with `depth<=2`"
   ]
  },
  {
   "cell_type": "code",
   "execution_count": null,
   "metadata": {},
   "outputs": [],
   "source": [
    "def task(skip, limit):\n",
    "    from collections import Counter\n",
    "\n",
    "    oldest_t = misc.CONFIG[\"collection\"][\"oldest_tweet\"]\n",
    "    since_id_key = \"since_id\"\n",
    "    print(\"Collection with oldest tweet at %s and key for since_id '%s'\" % (oldest_t, since_id_key))\n",
    "\n",
    "    min_tweets_lang = misc.CONFIG[\"collection\"][\"min_tweets_before_restricting_by_language\"]\n",
    "    def update_most_common_language(user, tweets):\n",
    "        # assumes tweets are all from the same user\n",
    "        # returns dict of {lang:count}\n",
    "        if not len(tweets): return\n",
    "        lang = \"tweeted_languages\"\n",
    "        user[lang] = dict_key_or_default(user, lang, {})\n",
    "        new_langs = Counter(map(lambda x: dict_key_or_default(x, \"lang\", \"und\"), tweets))\n",
    "        for k, v in new_langs.items():\n",
    "            user[lang][k] = dict_key_or_default(user[lang], k,0) + v\n",
    "        total_tweets = sum(user[lang].values())\n",
    "        # only include most_common_language if user has passed the tweet threshold\n",
    "        # defined by config.collection.min_tweets_before_restricting_by_language\n",
    "        if total_tweets >= min_tweets_lang:\n",
    "            user[\"most_common_language\"] = dict_key_for_max_val(user[lang])\n",
    "        upsert_user(user)\n",
    "\n",
    "    search_languages = misc.CONFIG[\"collection\"][\"search_languages\"]\n",
    "    find_params = find_exclude_invalid({\n",
    "        \"$or\" : [\n",
    "            {\"most_common_language\": {\"$exists\": 0}}, \n",
    "            {\"most_common_language\": {\"$in\": search_languages}}\n",
    "        ],\n",
    "        \"depth\": {\"$lte\": 2}\n",
    "    })\n",
    "    users = api_db.col_users.find(find_params, {since_id_key: True}, no_cursor_timeout=True).skip(skip).limit(limit)\n",
    "\n",
    "    for u in users:\n",
    "        print(\"getting tweets for: %s...\" % u[\"_id\"], end=\"\", flush=True)\n",
    "        tweets = get_tweets(u, api_db.api.GetUserTimeline, since_id_key, oldest_t, {\"trim_user\":True})\n",
    "        insert_tweets(tweets)\n",
    "        update_most_common_language(u, tweets)\n",
    "        print(\"got %d new tweets, done.\" % len(tweets))"
   ]
  },
  {
   "cell_type": "code",
   "execution_count": null,
   "metadata": {},
   "outputs": [],
   "source": [
    "search_languages = misc.CONFIG[\"collection\"][\"search_languages\"]\n",
    "find_params = find_exclude_invalid({\n",
    "    \"$or\" : [\n",
    "        {\"most_common_language\": {\"$exists\": 0}}, \n",
    "        {\"most_common_language\": {\"$in\": search_languages}}\n",
    "    ],\n",
    "    \"depth\": {\"$lte\": 2}\n",
    "})\n",
    "total = api_db.col_users.count(find_params)\n",
    "print(\"Total to process: %d\" % total)"
   ]
  },
  {
   "cell_type": "code",
   "execution_count": null,
   "metadata": {},
   "outputs": [],
   "source": [
    "dp = DynamicParallelism(total, task, \"tweet_collection\", batch_size=50_000, max_threads=misc.CONFIG[\"collection\"][\"max_threads\"])"
   ]
  },
  {
   "cell_type": "code",
   "execution_count": null,
   "metadata": {},
   "outputs": [],
   "source": [
    "dp.run()"
   ]
  },
  {
   "cell_type": "code",
   "execution_count": null,
   "metadata": {},
   "outputs": [],
   "source": [
    "print(\"DONE\")"
   ]
  }
 ],
 "metadata": {
  "kernelspec": {
   "display_name": "Python 3",
   "language": "python",
   "name": "python3"
  },
  "language_info": {
   "codemirror_mode": {
    "name": "ipython",
    "version": 3
   },
   "file_extension": ".py",
   "mimetype": "text/x-python",
   "name": "python",
   "nbconvert_exporter": "python",
   "pygments_lexer": "ipython3",
   "version": "3.7.4-final"
  }
 },
 "nbformat": 4,
 "nbformat_minor": 2
}
