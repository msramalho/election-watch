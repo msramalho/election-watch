{
 "cells": [
  {
   "cell_type": "markdown",
   "metadata": {},
   "source": [
    "# Daily Tweet Processing\n",
    "Iterate tweets for a given day and perform some calculations"
   ]
  },
  {
   "cell_type": "code",
   "execution_count": 1,
   "metadata": {
    "tags": []
   },
   "outputs": [
    {
     "output_type": "stream",
     "name": "stdout",
     "text": "using 105 seed accounts (20 from news sources) and 0 hashtags\nDatabase stats: \n{'avgObjSize': 102.53140665477913,\n 'collections': 5,\n 'dataSize': 6095082.0,\n 'db': 'electionswatch',\n 'fsTotalSize': 510770802688.0,\n 'fsUsedSize': 444951248896.0,\n 'indexSize': 1163264.0,\n 'indexes': 5,\n 'numExtents': 0,\n 'objects': 59446,\n 'ok': 1.0,\n 'scaleFactor': 1.0,\n 'storageSize': 3481600.0,\n 'views': 0}\nDB size (B): 6095082.0\nDB size (MB): 5.81\nDB size (GB): 0.01\nUsing API keys for app albertina_01\n\nDone initializing at 12:42PM on September 27, 2020.\n----------------------------------------\n"
    }
   ],
   "source": [
    "# required imports to access api_db, misc, misc.CONFIG, ...\n",
    "import sys\n",
    "sys.path = ['.', '..', '../..'] + sys.path\n",
    "from collection import *"
   ]
  },
  {
   "cell_type": "markdown",
   "metadata": {},
   "source": [
    "<hr>\n",
    "<h1 align=\"center\">driver code</h1>\n",
    "\n",
    "1. Define tasks to execute daily\n",
    "2. Check if these have been executed for each day of the past month\n",
    "3. Execute the ones that have not yet been executed (this ensures that new ones will be retroactively updated)\n",
    "4. "
   ]
  },
  {
   "source": [
    "---\n",
    "Define tasks below - these should be replicated in the api (or maybe make it generably able to access any `task_%s` collection from any endpoint, assuming injection is not a concern atm)"
   ],
   "cell_type": "markdown",
   "metadata": {}
  },
  {
   "cell_type": "code",
   "execution_count": 2,
   "metadata": {},
   "outputs": [],
   "source": [
    "# task 1 - count tweets by type\n",
    "from collections import defaultdict\n",
    "def count_tweets_by_type(day):\n",
    "    task = Task(api_db.db, \"count by type\")\n",
    "    if task.exists_day(day): return # already processed\n",
    "    metrics = defaultdict(int, next(api_db.col_tweets.aggregate([\n",
    "        {\"$match\": {\"created_at\": get_filter_by_day(day)}}, \n",
    "        {\"$facet\": {\n",
    "            \"retweet\": [\n",
    "                {\"$match\": {\"retweeted_status\": {\"$exists\": True}}},\n",
    "                {\"$count\": \"retweet\"},\n",
    "            ],\n",
    "            \"quote\": [\n",
    "                {\"$match\": {\"quoted_status\": {\"$exists\": True}}},\n",
    "                {\"$count\": \"quote\"},\n",
    "            ],\n",
    "            \"reply\": [\n",
    "                {\"$match\": {\"in_reply_to_status_id\": {\"$exists\": True}}},\n",
    "                {\"$count\": \"reply\"},\n",
    "            ],\n",
    "            \"original\": [\n",
    "                {\"$match\": {\"original\": True}},\n",
    "                {\"$count\": \"original\"},\n",
    "            ],\n",
    "            \"total\": [\n",
    "                {\"$count\": \"total\"},\n",
    "            ]\n",
    "        }},\n",
    "        {\"$project\": {\n",
    "            \"retweet\": {\"$arrayElemAt\": [\"$retweet.retweet\", 0]},\n",
    "            \"quote\": {\"$arrayElemAt\": [\"$quote.quote\", 0]},\n",
    "            \"reply\": {\"$arrayElemAt\": [\"$reply.reply\", 0]},\n",
    "            \"original\": {\"$arrayElemAt\": [\"$original.original\", 0]},\n",
    "            \"total\": {\"$arrayElemAt\": [\"$total.total\", 0]}\n",
    "        }}\n",
    "    ])))\n",
    "    # force defaultdict to create 0\n",
    "    [metrics[x] for x in [\"retweet\", \"quote\", \"reply\", \"original\", \"total\"]]\n",
    "    task.insert(day, metrics)"
   ]
  },
  {
   "cell_type": "code",
   "execution_count": 3,
   "metadata": {},
   "outputs": [],
   "source": [
    "# task 2 - measure fake news\n",
    "def measure_fakenews(day):\n",
    "    task = Task(api_db.db, \"measure fakenews\")\n",
    "    if task.exists_day(day): return # already processed\n",
    "\n",
    "    # helper function\n",
    "    from urllib.parse import urlparse\n",
    "    def netloc(url): return urlparse(url.strip()).netloc.replace(\"www.\", \"\")\n",
    "\n",
    "    def normalize_name(name): return name.replace(\".\", \"-\")\n",
    "\n",
    "    # get fakenews sites\n",
    "    with open(abs_path(\"../fakenews.txt\")) as inf: fakenews_sites = set(map(lambda s: s.strip(), inf.readlines()))\n",
    "    # search query\n",
    "    tweets = api_db.col_tweets.find({\n",
    "        \"urls\":{\"$exists\": True},\n",
    "        \"created_at\": get_filter_by_day(day)\n",
    "        }, {\"urls\": True, \"user\": True, \"favorite_count\": True, \"retweet_count\": True})\n",
    "    # collect\n",
    "    metrics = {\"total\":0, \"sites\": {}, \"favorite_count\": 0, \"retweet_count\": 0}\n",
    "    for fake in fakenews_sites: metrics[\"sites\"][normalize_name(fake)]=0\n",
    "    for t in tweets:\n",
    "        for url in t[\"urls\"]:\n",
    "            loc = netloc(url[\"expanded_url\"])\n",
    "            if loc == \"facebook.com\":\n",
    "                for fake in fakenews_sites:\n",
    "                    if fake in url[\"expanded_url\"]:\n",
    "                        metrics[\"sites\"][normalize_name(fake)]+=1\n",
    "                        if \"favorite_count\" in t: metrics[\"favorite_count\"]+=t[\"favorite_count\"]\n",
    "                        if \"retweet_count\" in t: metrics[\"retweet_count\"]+=t[\"retweet_count\"]\n",
    "                        break\n",
    "            elif loc in fakenews_sites:\n",
    "                metrics[\"sites\"][normalize_name(loc)]+=1\n",
    "                if \"favorite_count\" in t: metrics[\"favorite_count\"]+=t[\"favorite_count\"]\n",
    "                if \"retweet_count\" in t: metrics[\"retweet_count\"]+=t[\"retweet_count\"]\n",
    "    metrics[\"total\"] = sum(v for k, v in metrics[\"sites\"].items())\n",
    "    task.insert(day, metrics)"
   ]
  },
  {
   "cell_type": "code",
   "execution_count": 10,
   "metadata": {},
   "outputs": [],
   "source": [
    "# task 3 - measure suspensions\n",
    "def measure_suspensions(day):\n",
    "    task = Task(api_db.db, \"measure suspensions\")\n",
    "    if task.exists_day(day): return # already processed\n",
    "    task.drop_day(get_filter_by_day(day)) # force recalculation each day\n",
    "\n",
    "    metrics = {\"total\":0, \"users\": []}\n",
    "    users = api_db.col_users.find({\"suspended\": True, \"time_suspended\": get_filter_by_day(day)},\n",
    "     {\"screen_name\": True, \"friends_count\": True, \"followers_count\": True, \"statuses_count\": True, \"description\": True, \"favourites_count\": True, \"created_at\": True})\n",
    "    \n",
    "    for user in users:\n",
    "        metrics[\"total\"]+=1\n",
    "        metrics[\"users\"].append(user)\n",
    "\n",
    "    task.insert(day, metrics)"
   ]
  },
  {
   "source": [
    "# Main function that calls declared tasks\n",
    "Each task must be manually registered"
   ],
   "cell_type": "markdown",
   "metadata": {}
  },
  {
   "cell_type": "code",
   "execution_count": 11,
   "metadata": {},
   "outputs": [],
   "source": [
    "from datetime import datetime, timedelta"
   ]
  },
  {
   "cell_type": "code",
   "execution_count": 12,
   "metadata": {},
   "outputs": [],
   "source": [
    "def main_caller(day):\n",
    "    print(\"\")\n",
    "    with DoneMessage(\"   count_tweets_by_type\"):count_tweets_by_type(day)\n",
    "    with DoneMessage(\"   measure_fakenews\"):measure_fakenews(day)\n",
    "    with DoneMessage(\"   measure_suspensions\"):measure_suspensions(day)"
   ]
  },
  {
   "cell_type": "code",
   "execution_count": 13,
   "metadata": {
    "tags": []
   },
   "outputs": [
    {
     "output_type": "stream",
     "name": "stdout",
     "text": "Processing day 2020-09-02 00:00:00+00:00...\n   count_tweets_by_type...Done in 0.003s.\n   measure_fakenews...Done in 0.002s.\n   measure_suspensions...Done in 0.003s.\nDone in 0.016s.\n"
    },
    {
     "output_type": "error",
     "ename": "InvalidDocument",
     "evalue": "cannot encode object: datetime.date(2020, 9, 2), of type: <class 'datetime.date'>",
     "traceback": [
      "\u001b[1;31m---------------------------------------------------------------------------\u001b[0m",
      "\u001b[1;31mInvalidDocument\u001b[0m                           Traceback (most recent call last)",
      "\u001b[1;32m<ipython-input-13-dc9d68fe6628>\u001b[0m in \u001b[0;36m<module>\u001b[1;34m\u001b[0m\n\u001b[0;32m      4\u001b[0m     \u001b[0mday\u001b[0m\u001b[1;33m+=\u001b[0m\u001b[0mtimedelta\u001b[0m\u001b[1;33m(\u001b[0m\u001b[0mdays\u001b[0m\u001b[1;33m=\u001b[0m\u001b[1;36m1\u001b[0m\u001b[1;33m)\u001b[0m\u001b[1;33m\u001b[0m\u001b[1;33m\u001b[0m\u001b[0m\n\u001b[0;32m      5\u001b[0m     \u001b[1;32mwith\u001b[0m \u001b[0mDoneMessage\u001b[0m\u001b[1;33m(\u001b[0m\u001b[1;34m\"Processing day %s\"\u001b[0m \u001b[1;33m%\u001b[0m \u001b[0mday\u001b[0m\u001b[1;33m)\u001b[0m\u001b[1;33m:\u001b[0m\u001b[1;33m\u001b[0m\u001b[1;33m\u001b[0m\u001b[0m\n\u001b[1;32m----> 6\u001b[1;33m         \u001b[0mmain_caller\u001b[0m\u001b[1;33m(\u001b[0m\u001b[0mday\u001b[0m\u001b[1;33m)\u001b[0m\u001b[1;33m\u001b[0m\u001b[1;33m\u001b[0m\u001b[0m\n\u001b[0m",
      "\u001b[1;32m<ipython-input-12-61dbd52e1602>\u001b[0m in \u001b[0;36mmain_caller\u001b[1;34m(day)\u001b[0m\n\u001b[0;32m      3\u001b[0m     \u001b[1;32mwith\u001b[0m \u001b[0mDoneMessage\u001b[0m\u001b[1;33m(\u001b[0m\u001b[1;34m\"   count_tweets_by_type\"\u001b[0m\u001b[1;33m)\u001b[0m\u001b[1;33m:\u001b[0m\u001b[0mcount_tweets_by_type\u001b[0m\u001b[1;33m(\u001b[0m\u001b[0mday\u001b[0m\u001b[1;33m)\u001b[0m\u001b[1;33m\u001b[0m\u001b[1;33m\u001b[0m\u001b[0m\n\u001b[0;32m      4\u001b[0m     \u001b[1;32mwith\u001b[0m \u001b[0mDoneMessage\u001b[0m\u001b[1;33m(\u001b[0m\u001b[1;34m\"   measure_fakenews\"\u001b[0m\u001b[1;33m)\u001b[0m\u001b[1;33m:\u001b[0m\u001b[0mmeasure_fakenews\u001b[0m\u001b[1;33m(\u001b[0m\u001b[0mday\u001b[0m\u001b[1;33m)\u001b[0m\u001b[1;33m\u001b[0m\u001b[1;33m\u001b[0m\u001b[0m\n\u001b[1;32m----> 5\u001b[1;33m     \u001b[1;32mwith\u001b[0m \u001b[0mDoneMessage\u001b[0m\u001b[1;33m(\u001b[0m\u001b[1;34m\"   measure_suspensions\"\u001b[0m\u001b[1;33m)\u001b[0m\u001b[1;33m:\u001b[0m\u001b[0mmeasure_suspensions\u001b[0m\u001b[1;33m(\u001b[0m\u001b[0mday\u001b[0m\u001b[1;33m)\u001b[0m\u001b[1;33m\u001b[0m\u001b[1;33m\u001b[0m\u001b[0m\n\u001b[0m",
      "\u001b[1;32m<ipython-input-10-0cdb4fcbe1c9>\u001b[0m in \u001b[0;36mmeasure_suspensions\u001b[1;34m(day)\u001b[0m\n\u001b[0;32m      3\u001b[0m     \u001b[0mtask\u001b[0m \u001b[1;33m=\u001b[0m \u001b[0mTask\u001b[0m\u001b[1;33m(\u001b[0m\u001b[0mapi_db\u001b[0m\u001b[1;33m.\u001b[0m\u001b[0mdb\u001b[0m\u001b[1;33m,\u001b[0m \u001b[1;34m\"measure suspensions\"\u001b[0m\u001b[1;33m)\u001b[0m\u001b[1;33m\u001b[0m\u001b[1;33m\u001b[0m\u001b[0m\n\u001b[0;32m      4\u001b[0m     \u001b[1;32mif\u001b[0m \u001b[0mtask\u001b[0m\u001b[1;33m.\u001b[0m\u001b[0mexists_day\u001b[0m\u001b[1;33m(\u001b[0m\u001b[0mday\u001b[0m\u001b[1;33m)\u001b[0m\u001b[1;33m:\u001b[0m \u001b[1;32mreturn\u001b[0m \u001b[1;31m# already processed\u001b[0m\u001b[1;33m\u001b[0m\u001b[1;33m\u001b[0m\u001b[0m\n\u001b[1;32m----> 5\u001b[1;33m     \u001b[0mtask\u001b[0m\u001b[1;33m.\u001b[0m\u001b[0mdrop_day\u001b[0m\u001b[1;33m(\u001b[0m\u001b[0mday\u001b[0m\u001b[1;33m)\u001b[0m \u001b[1;31m# force recalculation each day\u001b[0m\u001b[1;33m\u001b[0m\u001b[1;33m\u001b[0m\u001b[0m\n\u001b[0m\u001b[0;32m      6\u001b[0m \u001b[1;33m\u001b[0m\u001b[0m\n\u001b[0;32m      7\u001b[0m     \u001b[0mmetrics\u001b[0m \u001b[1;33m=\u001b[0m \u001b[1;33m{\u001b[0m\u001b[1;34m\"total\"\u001b[0m\u001b[1;33m:\u001b[0m\u001b[1;36m0\u001b[0m\u001b[1;33m,\u001b[0m \u001b[1;34m\"users\"\u001b[0m\u001b[1;33m:\u001b[0m \u001b[1;33m[\u001b[0m\u001b[1;33m]\u001b[0m\u001b[1;33m}\u001b[0m\u001b[1;33m\u001b[0m\u001b[1;33m\u001b[0m\u001b[0m\n",
      "\u001b[1;32mc:\\Users\\M\\Desktop\\dev\\python\\election-watch\\core\\utils\\task.py\u001b[0m in \u001b[0;36mdrop_day\u001b[1;34m(self, day)\u001b[0m\n\u001b[0;32m     39\u001b[0m \u001b[1;33m\u001b[0m\u001b[0m\n\u001b[0;32m     40\u001b[0m     \u001b[1;32mdef\u001b[0m \u001b[0mdrop\u001b[0m\u001b[1;33m(\u001b[0m\u001b[0mself\u001b[0m\u001b[1;33m)\u001b[0m\u001b[1;33m:\u001b[0m \u001b[0mself\u001b[0m\u001b[1;33m.\u001b[0m\u001b[0mcollection\u001b[0m\u001b[1;33m.\u001b[0m\u001b[0mremove\u001b[0m\u001b[1;33m(\u001b[0m\u001b[1;33m{\u001b[0m\u001b[1;33m}\u001b[0m\u001b[1;33m)\u001b[0m\u001b[1;33m\u001b[0m\u001b[1;33m\u001b[0m\u001b[0m\n\u001b[1;32m---> 41\u001b[1;33m     \u001b[1;32mdef\u001b[0m \u001b[0mdrop_day\u001b[0m\u001b[1;33m(\u001b[0m\u001b[0mself\u001b[0m\u001b[1;33m,\u001b[0m \u001b[0mday\u001b[0m\u001b[1;33m)\u001b[0m\u001b[1;33m:\u001b[0m \u001b[0mself\u001b[0m\u001b[1;33m.\u001b[0m\u001b[0mcollection\u001b[0m\u001b[1;33m.\u001b[0m\u001b[0mremove\u001b[0m\u001b[1;33m(\u001b[0m\u001b[1;33m{\u001b[0m\u001b[1;34m\"day\"\u001b[0m\u001b[1;33m:\u001b[0m \u001b[0mday\u001b[0m\u001b[1;33m.\u001b[0m\u001b[0mdate\u001b[0m\u001b[1;33m(\u001b[0m\u001b[1;33m)\u001b[0m\u001b[1;33m}\u001b[0m\u001b[1;33m)\u001b[0m\u001b[1;33m\u001b[0m\u001b[1;33m\u001b[0m\u001b[0m\n\u001b[0m\u001b[0;32m     42\u001b[0m \u001b[1;33m\u001b[0m\u001b[0m\n\u001b[0;32m     43\u001b[0m     \u001b[1;32mdef\u001b[0m \u001b[0mget_api_n\u001b[0m\u001b[1;33m(\u001b[0m\u001b[0mself\u001b[0m\u001b[1;33m,\u001b[0m \u001b[0mn\u001b[0m\u001b[1;33m)\u001b[0m\u001b[1;33m:\u001b[0m\u001b[1;33m\u001b[0m\u001b[1;33m\u001b[0m\u001b[0m\n",
      "\u001b[1;32mC:\\Python37\\lib\\site-packages\\pymongo\\collection.py\u001b[0m in \u001b[0;36mremove\u001b[1;34m(self, spec_or_id, multi, **kwargs)\u001b[0m\n\u001b[0;32m   3235\u001b[0m             \u001b[0mwrite_concern\u001b[0m \u001b[1;33m=\u001b[0m \u001b[0mWriteConcern\u001b[0m\u001b[1;33m(\u001b[0m\u001b[1;33m**\u001b[0m\u001b[0mkwargs\u001b[0m\u001b[1;33m)\u001b[0m\u001b[1;33m\u001b[0m\u001b[1;33m\u001b[0m\u001b[0m\n\u001b[0;32m   3236\u001b[0m         return self._delete_retryable(\n\u001b[1;32m-> 3237\u001b[1;33m             spec_or_id, multi, write_concern, collation=collation)\n\u001b[0m\u001b[0;32m   3238\u001b[0m \u001b[1;33m\u001b[0m\u001b[0m\n\u001b[0;32m   3239\u001b[0m     def find_and_modify(self, query={}, update=None,\n",
      "\u001b[1;32mC:\\Python37\\lib\\site-packages\\pymongo\\collection.py\u001b[0m in \u001b[0;36m_delete_retryable\u001b[1;34m(self, criteria, multi, write_concern, op_id, ordered, collation, session)\u001b[0m\n\u001b[0;32m   1163\u001b[0m         return self.__database.client._retryable_write(\n\u001b[0;32m   1164\u001b[0m             \u001b[1;33m(\u001b[0m\u001b[0mwrite_concern\u001b[0m \u001b[1;32mor\u001b[0m \u001b[0mself\u001b[0m\u001b[1;33m.\u001b[0m\u001b[0mwrite_concern\u001b[0m\u001b[1;33m)\u001b[0m\u001b[1;33m.\u001b[0m\u001b[0macknowledged\u001b[0m \u001b[1;32mand\u001b[0m \u001b[1;32mnot\u001b[0m \u001b[0mmulti\u001b[0m\u001b[1;33m,\u001b[0m\u001b[1;33m\u001b[0m\u001b[1;33m\u001b[0m\u001b[0m\n\u001b[1;32m-> 1165\u001b[1;33m             _delete, session)\n\u001b[0m\u001b[0;32m   1166\u001b[0m \u001b[1;33m\u001b[0m\u001b[0m\n\u001b[0;32m   1167\u001b[0m     \u001b[1;32mdef\u001b[0m \u001b[0mdelete_one\u001b[0m\u001b[1;33m(\u001b[0m\u001b[0mself\u001b[0m\u001b[1;33m,\u001b[0m \u001b[0mfilter\u001b[0m\u001b[1;33m,\u001b[0m \u001b[0mcollation\u001b[0m\u001b[1;33m=\u001b[0m\u001b[1;32mNone\u001b[0m\u001b[1;33m,\u001b[0m \u001b[0msession\u001b[0m\u001b[1;33m=\u001b[0m\u001b[1;32mNone\u001b[0m\u001b[1;33m)\u001b[0m\u001b[1;33m:\u001b[0m\u001b[1;33m\u001b[0m\u001b[1;33m\u001b[0m\u001b[0m\n",
      "\u001b[1;32mC:\\Python37\\lib\\site-packages\\pymongo\\mongo_client.py\u001b[0m in \u001b[0;36m_retryable_write\u001b[1;34m(self, retryable, func, session)\u001b[0m\n\u001b[0;32m   1489\u001b[0m         \u001b[1;34m\"\"\"Internal retryable write helper.\"\"\"\u001b[0m\u001b[1;33m\u001b[0m\u001b[1;33m\u001b[0m\u001b[0m\n\u001b[0;32m   1490\u001b[0m         \u001b[1;32mwith\u001b[0m \u001b[0mself\u001b[0m\u001b[1;33m.\u001b[0m\u001b[0m_tmp_session\u001b[0m\u001b[1;33m(\u001b[0m\u001b[0msession\u001b[0m\u001b[1;33m)\u001b[0m \u001b[1;32mas\u001b[0m \u001b[0ms\u001b[0m\u001b[1;33m:\u001b[0m\u001b[1;33m\u001b[0m\u001b[1;33m\u001b[0m\u001b[0m\n\u001b[1;32m-> 1491\u001b[1;33m             \u001b[1;32mreturn\u001b[0m \u001b[0mself\u001b[0m\u001b[1;33m.\u001b[0m\u001b[0m_retry_with_session\u001b[0m\u001b[1;33m(\u001b[0m\u001b[0mretryable\u001b[0m\u001b[1;33m,\u001b[0m \u001b[0mfunc\u001b[0m\u001b[1;33m,\u001b[0m \u001b[0ms\u001b[0m\u001b[1;33m,\u001b[0m \u001b[1;32mNone\u001b[0m\u001b[1;33m)\u001b[0m\u001b[1;33m\u001b[0m\u001b[1;33m\u001b[0m\u001b[0m\n\u001b[0m\u001b[0;32m   1492\u001b[0m \u001b[1;33m\u001b[0m\u001b[0m\n\u001b[0;32m   1493\u001b[0m     \u001b[1;32mdef\u001b[0m \u001b[0m_reset_server\u001b[0m\u001b[1;33m(\u001b[0m\u001b[0mself\u001b[0m\u001b[1;33m,\u001b[0m \u001b[0maddress\u001b[0m\u001b[1;33m)\u001b[0m\u001b[1;33m:\u001b[0m\u001b[1;33m\u001b[0m\u001b[1;33m\u001b[0m\u001b[0m\n",
      "\u001b[1;32mC:\\Python37\\lib\\site-packages\\pymongo\\mongo_client.py\u001b[0m in \u001b[0;36m_retry_with_session\u001b[1;34m(self, retryable, func, session, bulk)\u001b[0m\n\u001b[0;32m   1382\u001b[0m                             \u001b[1;32mraise\u001b[0m \u001b[0mlast_error\u001b[0m\u001b[1;33m\u001b[0m\u001b[1;33m\u001b[0m\u001b[0m\n\u001b[0;32m   1383\u001b[0m                         \u001b[0mretryable\u001b[0m \u001b[1;33m=\u001b[0m \u001b[1;32mFalse\u001b[0m\u001b[1;33m\u001b[0m\u001b[1;33m\u001b[0m\u001b[0m\n\u001b[1;32m-> 1384\u001b[1;33m                     \u001b[1;32mreturn\u001b[0m \u001b[0mfunc\u001b[0m\u001b[1;33m(\u001b[0m\u001b[0msession\u001b[0m\u001b[1;33m,\u001b[0m \u001b[0msock_info\u001b[0m\u001b[1;33m,\u001b[0m \u001b[0mretryable\u001b[0m\u001b[1;33m)\u001b[0m\u001b[1;33m\u001b[0m\u001b[1;33m\u001b[0m\u001b[0m\n\u001b[0m\u001b[0;32m   1385\u001b[0m             \u001b[1;32mexcept\u001b[0m \u001b[0mServerSelectionTimeoutError\u001b[0m\u001b[1;33m:\u001b[0m\u001b[1;33m\u001b[0m\u001b[1;33m\u001b[0m\u001b[0m\n\u001b[0;32m   1386\u001b[0m                 \u001b[1;32mif\u001b[0m \u001b[0mis_retrying\u001b[0m\u001b[1;33m(\u001b[0m\u001b[1;33m)\u001b[0m\u001b[1;33m:\u001b[0m\u001b[1;33m\u001b[0m\u001b[1;33m\u001b[0m\u001b[0m\n",
      "\u001b[1;32mC:\\Python37\\lib\\site-packages\\pymongo\\collection.py\u001b[0m in \u001b[0;36m_delete\u001b[1;34m(session, sock_info, retryable_write)\u001b[0m\n\u001b[0;32m   1159\u001b[0m                 \u001b[0mwrite_concern\u001b[0m\u001b[1;33m=\u001b[0m\u001b[0mwrite_concern\u001b[0m\u001b[1;33m,\u001b[0m \u001b[0mop_id\u001b[0m\u001b[1;33m=\u001b[0m\u001b[0mop_id\u001b[0m\u001b[1;33m,\u001b[0m \u001b[0mordered\u001b[0m\u001b[1;33m=\u001b[0m\u001b[0mordered\u001b[0m\u001b[1;33m,\u001b[0m\u001b[1;33m\u001b[0m\u001b[1;33m\u001b[0m\u001b[0m\n\u001b[0;32m   1160\u001b[0m                 \u001b[0mcollation\u001b[0m\u001b[1;33m=\u001b[0m\u001b[0mcollation\u001b[0m\u001b[1;33m,\u001b[0m \u001b[0msession\u001b[0m\u001b[1;33m=\u001b[0m\u001b[0msession\u001b[0m\u001b[1;33m,\u001b[0m\u001b[1;33m\u001b[0m\u001b[1;33m\u001b[0m\u001b[0m\n\u001b[1;32m-> 1161\u001b[1;33m                 retryable_write=retryable_write)\n\u001b[0m\u001b[0;32m   1162\u001b[0m \u001b[1;33m\u001b[0m\u001b[0m\n\u001b[0;32m   1163\u001b[0m         return self.__database.client._retryable_write(\n",
      "\u001b[1;32mC:\\Python37\\lib\\site-packages\\pymongo\\collection.py\u001b[0m in \u001b[0;36m_delete\u001b[1;34m(self, sock_info, criteria, multi, write_concern, op_id, ordered, collation, session, retryable_write)\u001b[0m\n\u001b[0;32m   1145\u001b[0m             \u001b[0msession\u001b[0m\u001b[1;33m=\u001b[0m\u001b[0msession\u001b[0m\u001b[1;33m,\u001b[0m\u001b[1;33m\u001b[0m\u001b[1;33m\u001b[0m\u001b[0m\n\u001b[0;32m   1146\u001b[0m             \u001b[0mclient\u001b[0m\u001b[1;33m=\u001b[0m\u001b[0mself\u001b[0m\u001b[1;33m.\u001b[0m\u001b[0m__database\u001b[0m\u001b[1;33m.\u001b[0m\u001b[0mclient\u001b[0m\u001b[1;33m,\u001b[0m\u001b[1;33m\u001b[0m\u001b[1;33m\u001b[0m\u001b[0m\n\u001b[1;32m-> 1147\u001b[1;33m             retryable_write=retryable_write)\n\u001b[0m\u001b[0;32m   1148\u001b[0m         \u001b[0m_check_write_command_response\u001b[0m\u001b[1;33m(\u001b[0m\u001b[0mresult\u001b[0m\u001b[1;33m)\u001b[0m\u001b[1;33m\u001b[0m\u001b[1;33m\u001b[0m\u001b[0m\n\u001b[0;32m   1149\u001b[0m         \u001b[1;32mreturn\u001b[0m \u001b[0mresult\u001b[0m\u001b[1;33m\u001b[0m\u001b[1;33m\u001b[0m\u001b[0m\n",
      "\u001b[1;32mC:\\Python37\\lib\\site-packages\\pymongo\\pool.py\u001b[0m in \u001b[0;36mcommand\u001b[1;34m(self, dbname, spec, slave_ok, read_preference, codec_options, check, allowable_errors, check_keys, read_concern, write_concern, parse_write_concern_error, collation, session, client, retryable_write, publish_events, user_fields)\u001b[0m\n\u001b[0;32m    616\u001b[0m         \u001b[1;31m# Catch socket.error, KeyboardInterrupt, etc. and close ourselves.\u001b[0m\u001b[1;33m\u001b[0m\u001b[1;33m\u001b[0m\u001b[1;33m\u001b[0m\u001b[0m\n\u001b[0;32m    617\u001b[0m         \u001b[1;32mexcept\u001b[0m \u001b[0mBaseException\u001b[0m \u001b[1;32mas\u001b[0m \u001b[0merror\u001b[0m\u001b[1;33m:\u001b[0m\u001b[1;33m\u001b[0m\u001b[1;33m\u001b[0m\u001b[0m\n\u001b[1;32m--> 618\u001b[1;33m             \u001b[0mself\u001b[0m\u001b[1;33m.\u001b[0m\u001b[0m_raise_connection_failure\u001b[0m\u001b[1;33m(\u001b[0m\u001b[0merror\u001b[0m\u001b[1;33m)\u001b[0m\u001b[1;33m\u001b[0m\u001b[1;33m\u001b[0m\u001b[0m\n\u001b[0m\u001b[0;32m    619\u001b[0m \u001b[1;33m\u001b[0m\u001b[0m\n\u001b[0;32m    620\u001b[0m     \u001b[1;32mdef\u001b[0m \u001b[0msend_message\u001b[0m\u001b[1;33m(\u001b[0m\u001b[0mself\u001b[0m\u001b[1;33m,\u001b[0m \u001b[0mmessage\u001b[0m\u001b[1;33m,\u001b[0m \u001b[0mmax_doc_size\u001b[0m\u001b[1;33m)\u001b[0m\u001b[1;33m:\u001b[0m\u001b[1;33m\u001b[0m\u001b[1;33m\u001b[0m\u001b[0m\n",
      "\u001b[1;32mC:\\Python37\\lib\\site-packages\\pymongo\\pool.py\u001b[0m in \u001b[0;36mcommand\u001b[1;34m(self, dbname, spec, slave_ok, read_preference, codec_options, check, allowable_errors, check_keys, read_concern, write_concern, parse_write_concern_error, collation, session, client, retryable_write, publish_events, user_fields)\u001b[0m\n\u001b[0;32m    611\u001b[0m                            \u001b[0muse_op_msg\u001b[0m\u001b[1;33m=\u001b[0m\u001b[0mself\u001b[0m\u001b[1;33m.\u001b[0m\u001b[0mop_msg_enabled\u001b[0m\u001b[1;33m,\u001b[0m\u001b[1;33m\u001b[0m\u001b[1;33m\u001b[0m\u001b[0m\n\u001b[0;32m    612\u001b[0m                            \u001b[0munacknowledged\u001b[0m\u001b[1;33m=\u001b[0m\u001b[0munacknowledged\u001b[0m\u001b[1;33m,\u001b[0m\u001b[1;33m\u001b[0m\u001b[1;33m\u001b[0m\u001b[0m\n\u001b[1;32m--> 613\u001b[1;33m                            user_fields=user_fields)\n\u001b[0m\u001b[0;32m    614\u001b[0m         \u001b[1;32mexcept\u001b[0m \u001b[0mOperationFailure\u001b[0m\u001b[1;33m:\u001b[0m\u001b[1;33m\u001b[0m\u001b[1;33m\u001b[0m\u001b[0m\n\u001b[0;32m    615\u001b[0m             \u001b[1;32mraise\u001b[0m\u001b[1;33m\u001b[0m\u001b[1;33m\u001b[0m\u001b[0m\n",
      "\u001b[1;32mC:\\Python37\\lib\\site-packages\\pymongo\\network.py\u001b[0m in \u001b[0;36mcommand\u001b[1;34m(sock, dbname, spec, slave_ok, is_mongos, read_preference, codec_options, session, client, check, allowable_errors, address, check_keys, listeners, max_bson_size, read_concern, parse_write_concern_error, collation, compression_ctx, use_op_msg, unacknowledged, user_fields)\u001b[0m\n\u001b[0;32m    127\u001b[0m         request_id, msg, size, max_doc_size = message._op_msg(\n\u001b[0;32m    128\u001b[0m             \u001b[0mflags\u001b[0m\u001b[1;33m,\u001b[0m \u001b[0mspec\u001b[0m\u001b[1;33m,\u001b[0m \u001b[0mdbname\u001b[0m\u001b[1;33m,\u001b[0m \u001b[0mread_preference\u001b[0m\u001b[1;33m,\u001b[0m \u001b[0mslave_ok\u001b[0m\u001b[1;33m,\u001b[0m \u001b[0mcheck_keys\u001b[0m\u001b[1;33m,\u001b[0m\u001b[1;33m\u001b[0m\u001b[1;33m\u001b[0m\u001b[0m\n\u001b[1;32m--> 129\u001b[1;33m             codec_options, ctx=compression_ctx)\n\u001b[0m\u001b[0;32m    130\u001b[0m         \u001b[1;31m# If this is an unacknowledged write then make sure the encoded doc(s)\u001b[0m\u001b[1;33m\u001b[0m\u001b[1;33m\u001b[0m\u001b[1;33m\u001b[0m\u001b[0m\n\u001b[0;32m    131\u001b[0m         \u001b[1;31m# are small enough, otherwise rely on the server to return an error.\u001b[0m\u001b[1;33m\u001b[0m\u001b[1;33m\u001b[0m\u001b[1;33m\u001b[0m\u001b[0m\n",
      "\u001b[1;32mC:\\Python37\\lib\\site-packages\\pymongo\\message.py\u001b[0m in \u001b[0;36m_op_msg\u001b[1;34m(flags, command, dbname, read_preference, slave_ok, check_keys, opts, ctx)\u001b[0m\n\u001b[0;32m    705\u001b[0m                 flags, command, identifier, docs, check_keys, opts, ctx)\n\u001b[0;32m    706\u001b[0m         return _op_msg_uncompressed(\n\u001b[1;32m--> 707\u001b[1;33m             flags, command, identifier, docs, check_keys, opts)\n\u001b[0m\u001b[0;32m    708\u001b[0m     \u001b[1;32mfinally\u001b[0m\u001b[1;33m:\u001b[0m\u001b[1;33m\u001b[0m\u001b[1;33m\u001b[0m\u001b[0m\n\u001b[0;32m    709\u001b[0m         \u001b[1;31m# Add the field back to the command.\u001b[0m\u001b[1;33m\u001b[0m\u001b[1;33m\u001b[0m\u001b[1;33m\u001b[0m\u001b[0m\n",
      "\u001b[1;31mInvalidDocument\u001b[0m: cannot encode object: datetime.date(2020, 9, 2), of type: <class 'datetime.date'>"
     ]
    }
   ],
   "source": [
    "day = misc.CONFIG[\"collection\"][\"oldest_tweet\"]\n",
    "# process every day from start to yesterday (today only when whole day has gone by)\n",
    "while day.date() + timedelta(days=1) < datetime.now(day.tzinfo).date():\n",
    "    day+=timedelta(days=1)\n",
    "    with DoneMessage(\"Processing day %s\" % day):\n",
    "        main_caller(day)"
   ]
  },
  {
   "cell_type": "code",
   "execution_count": null,
   "metadata": {
    "tags": []
   },
   "outputs": [],
   "source": [
    "# print(get_account_details(20509689))"
   ]
  },
  {
   "cell_type": "code",
   "execution_count": null,
   "metadata": {
    "tags": []
   },
   "outputs": [],
   "source": [
    "# from datetime import timezone\n",
    "# find_params = find_exclude_invalid({\n",
    "#     \"depth\": 0\n",
    "# })\n",
    "# oldest_t = misc.CONFIG[\"collection\"][\"oldest_tweet\"]\n",
    "# # users = api_db.col_users.find(find_params, no_cursor_timeout=True)\n",
    "# users = [{\"_id\": 8665852}]\n",
    "# for u in users:\n",
    "#     print(\"getting tweets for: %s...\" % u[\"_id\"], end=\"\", flush=True)\n",
    "#     tweets = get_tweets(u, api_db.api.GetUserTimeline, \"since_id\",  datetime(2020, 7, 18, tzinfo=timezone.utc), {\"trim_user\":True})\n",
    "#     # insert_tweets(tweets)\n",
    "#     # update_most_common_language(u, tweets) # removed because not useful here\n",
    "#     print(\"got %d new tweets, done.\" % len(tweets))\n",
    "#     if len(tweets) > 0: break"
   ]
  },
  {
   "cell_type": "code",
   "execution_count": null,
   "metadata": {
    "tags": []
   },
   "outputs": [],
   "source": [
    "# # [print(str(t) + \"\\n\") for t in tweets[-10:-1]]\n",
    "# for t in tweets[0:10000]:\n",
    "#     if \"in_reply_to_user_id\" in t:\n",
    "#         print(t)"
   ]
  },
  {
   "cell_type": "code",
   "execution_count": null,
   "metadata": {},
   "outputs": [],
   "source": [
    "# misc.CONFIG[\"collection\"][\"oldest_tweet\"]"
   ]
  },
  {
   "cell_type": "code",
   "execution_count": null,
   "metadata": {
    "tags": []
   },
   "outputs": [],
   "source": [
    "\n",
    "# for tweet in api_db.col_tweets.find({\"created_at\": {\"$gte\": _from, \"$lt\": _to}}, no_cursor_timeout=True):\n",
    "#     print(tweet)\n",
    "#     break"
   ]
  },
  {
   "cell_type": "code",
   "execution_count": null,
   "metadata": {
    "tags": []
   },
   "outputs": [],
   "source": [
    "print(\"DONE\")"
   ]
  }
 ],
 "metadata": {
  "kernelspec": {
   "display_name": "Python 3",
   "language": "python",
   "name": "python3"
  },
  "language_info": {
   "codemirror_mode": {
    "name": "ipython",
    "version": 3
   },
   "file_extension": ".py",
   "mimetype": "text/x-python",
   "name": "python",
   "nbconvert_exporter": "python",
   "pygments_lexer": "ipython3",
   "version": "3.7.4-final"
  }
 },
 "nbformat": 4,
 "nbformat_minor": 2
}