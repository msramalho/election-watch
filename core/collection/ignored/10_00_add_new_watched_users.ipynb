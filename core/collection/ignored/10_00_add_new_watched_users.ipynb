{
 "cells": [
  {
   "cell_type": "markdown",
   "metadata": {},
   "source": [
    "# Daily Add New Watched Users\n",
    "Iterate all non-watched users (no `depth` assigned) and check if their number of appearances is greater than the threshold (`min_appearances_before_watched`) until one of the following happens:\n",
    "* maximum of total watched users (`max_watched_users`) is reached \n",
    "* a daily increase of watched users (`max_daily_increase`) is reached \n",
    "* a percentual daily increase of watched users (`max_daily_increase_ratio`) is reached"
   ]
  },
  {
   "cell_type": "code",
   "execution_count": null,
   "metadata": {},
   "outputs": [],
   "source": [
    "# required imports to access api_db, misc, misc.CONFIG, ...\n",
    "import sys\n",
    "sys.path = ['.', '..', '../..'] + sys.path\n",
    "from collection import *"
   ]
  },
  {
   "cell_type": "markdown",
   "metadata": {},
   "source": [
    "### Conditional Execution\n",
    "Each file needs to verify if it should be executed or not based on the configurations (for some files this is not optional but all should have this section, even if it is tautological). Example:\n",
    "```python\n",
    "if not misc.CONFIG[\"collection\"][\"execute_this_script\"]: exit()\n",
    "```"
   ]
  },
  {
   "cell_type": "code",
   "execution_count": null,
   "metadata": {},
   "outputs": [],
   "source": [
    "# Conditional execution\n",
    "pass"
   ]
  },
  {
   "cell_type": "markdown",
   "metadata": {},
   "source": [
    "<hr>\n",
    "<h1 align=\"center\">driver code</h1>"
   ]
  },
  {
   "cell_type": "code",
   "execution_count": null,
   "metadata": {},
   "outputs": [],
   "source": [
    "from pytictoc import TicToc"
   ]
  },
  {
   "cell_type": "code",
   "execution_count": null,
   "metadata": {},
   "outputs": [],
   "source": [
    "with TicToc():\n",
    "    print(\"Loading seed_ids from database...\", end=\"\", flush=True)\n",
    "    seed_ids = [s[\"_id\"] for s in api_db.col_users.find({\"depth\": 0}, {}).limit(len(misc.CONFIG[\"seed\"][\"usernames\"]))]\n",
    "    print(\"got %d seed users, done.\" % len(seed_ids))"
   ]
  },
  {
   "cell_type": "code",
   "execution_count": null,
   "metadata": {},
   "outputs": [],
   "source": [
    "conf_lim = misc.CONFIG[\"collection\"][\"limits\"]\n",
    "current_users = api_db.col_users.count_documents({\"depth\": {\"$lte\": 2}})\n",
    "todays_limit = int(max(0, min(\n",
    "    conf_lim[\"max_daily_increase\"],\n",
    "    current_users * conf_lim[\"max_daily_increase_ratio\"],\n",
    "    conf_lim[\"max_watched_users\"] - current_users\n",
    ")))"
   ]
  },
  {
   "cell_type": "code",
   "execution_count": null,
   "metadata": {},
   "outputs": [],
   "source": [
    "print(\"Today's limit for new users is %d.\" % todays_limit)"
   ]
  },
  {
   "cell_type": "code",
   "execution_count": null,
   "metadata": {},
   "outputs": [],
   "source": [
    "import re"
   ]
  },
  {
   "cell_type": "code",
   "execution_count": null,
   "metadata": {},
   "outputs": [],
   "source": [
    "find_params = {\n",
    "    \"depth\": {\"$exists\": False},\n",
    "    \"unwatched\": {\"$exists\": False}, # set to mark accounts that should not be watched\n",
    "    \"appearances\": {\"$gte\": conf_lim[\"min_appearances_before_watched\"]},\n",
    "    \"location\": {\"$not\": re.compile(r'brasil', re.IGNORECASE)}\n",
    "}\n",
    "\n",
    "with TicToc():\n",
    "    print(\"Processing new users (silent db-only)...\", end=\"\", flush=True)\n",
    "    # get the user ids\n",
    "    user_ids = [u[\"_id\"] for u in api_db.col_users.find(find_params, {}, no_cursor_timeout=True).limit(todays_limit)]\n",
    "    # upsert them with the appropriate depth\n",
    "    insert_user_ids(user_ids, depth=2)\n",
    "    print(\"started watching %d new users, done.\" % len(user_ids))"
   ]
  },
  {
   "cell_type": "code",
   "execution_count": null,
   "metadata": {},
   "outputs": [],
   "source": [
    "print(\"DONE\")"
   ]
  }
 ],
 "metadata": {
  "kernelspec": {
   "display_name": "Python 3",
   "language": "python",
   "name": "python3"
  },
  "language_info": {
   "codemirror_mode": {
    "name": "ipython",
    "version": 3
   },
   "file_extension": ".py",
   "mimetype": "text/x-python",
   "name": "python",
   "nbconvert_exporter": "python",
   "pygments_lexer": "ipython3",
   "version": "3.7.4-final"
  }
 },
 "nbformat": 4,
 "nbformat_minor": 2
}
