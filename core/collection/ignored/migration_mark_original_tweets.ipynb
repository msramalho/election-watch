{
 "cells": [
  {
   "cell_type": "markdown",
   "metadata": {},
   "source": [
    "# Migration - Mark Original Tweets\n",
    "This is deployed along with a fix to the `api_db` function making it redundant on the follow-up executions.\n",
    "\n",
    "The goal is to include a `original=True` property on tweets that not replies to other tweets (no `in_reply_to_user_id` prop), not quotes (no `quoted_status` prop) and not retweets (no `retweeted_status`). So that original tweets can be found faster (possible with an index) and used in the LDA process (or other purpose).\n",
    "\n",
    "A migration means it is meant to have performance impact only on the first execution, that is, it will only run if no tweets have the `original` prop."
   ]
  },
  {
   "cell_type": "code",
   "execution_count": null,
   "metadata": {},
   "outputs": [],
   "source": [
    "# required imports to access api_db, misc, misc.CONFIG, ...\n",
    "import sys\n",
    "sys.path = ['.', '..', '../..'] + sys.path\n",
    "from collection import *"
   ]
  },
  {
   "cell_type": "markdown",
   "metadata": {},
   "source": [
    "<hr>\n",
    "<h1 align=\"center\">driver code</h1>"
   ]
  },
  {
   "cell_type": "code",
   "execution_count": null,
   "metadata": {},
   "outputs": [],
   "source": [
    "if api_db.col_tweets.find_one({\"original\": True}):\n",
    "    print(\"Migration mark original tweets was not executed, since there are 'original': True tweets already\")\n",
    "    exit()"
   ]
  },
  {
   "cell_type": "code",
   "execution_count": null,
   "metadata": {},
   "outputs": [],
   "source": [
    "print(\"Executing...\")\n",
    "api_db.col_tweets.update_many({\"in_reply_to_user_id\": {\"$exists\": False}, \"quoted_status\": {\"$exists\": False}, \"retweeted_status\": {\"$exists\": False}}, {'$set': {'original': True}})"
   ]
  },
  {
   "cell_type": "code",
   "execution_count": null,
   "metadata": {},
   "outputs": [],
   "source": [
    "print(\"DONE\")"
   ]
  }
 ],
 "metadata": {
  "kernelspec": {
   "display_name": "Python 3",
   "language": "python",
   "name": "python3"
  },
  "language_info": {
   "codemirror_mode": {
    "name": "ipython",
    "version": 3
   },
   "file_extension": ".py",
   "mimetype": "text/x-python",
   "name": "python",
   "nbconvert_exporter": "python",
   "pygments_lexer": "ipython3",
   "version": "3.7.4-final"
  }
 },
 "nbformat": 4,
 "nbformat_minor": 2
}
