{
 "cells": [
  {
   "cell_type": "markdown",
   "metadata": {},
   "source": [
    "# Daily Seed Tweet Processing\n",
    "Iterate all unprocessed tweets from seed users (processed tweets are marked with `processed_seed=True`) and upsert them with `depth=1`, namely:\n",
    "* all **mentioned** users\n",
    "* all **authors** of retweeted tweets\n",
    "* all **authors** of quoted tweets (retweet + comment)\n",
    "* all **authors** of replied tweets"
   ]
  },
  {
   "cell_type": "code",
   "execution_count": null,
   "metadata": {},
   "outputs": [],
   "source": [
    "# required imports to access api_db, misc, misc.CONFIG, ...\n",
    "import sys\n",
    "sys.path = ['.', '..', '../..'] + sys.path\n",
    "from collection import *"
   ]
  },
  {
   "cell_type": "markdown",
   "metadata": {},
   "source": [
    "### Conditional Execution\n",
    "Each file needs to verify if it should be executed or not based on the configurations (for some files this is not optional but all should have this section, even if it is tautological). Example:\n",
    "```python\n",
    "if not misc.CONFIG[\"collection\"][\"execute_this_script\"]: exit()\n",
    "```"
   ]
  },
  {
   "cell_type": "code",
   "execution_count": null,
   "metadata": {},
   "outputs": [],
   "source": [
    "# Conditional execution\n",
    "pass"
   ]
  },
  {
   "cell_type": "markdown",
   "metadata": {},
   "source": [
    "<hr>\n",
    "<h1 align=\"center\">driver code</h1>"
   ]
  },
  {
   "cell_type": "code",
   "execution_count": null,
   "metadata": {},
   "outputs": [],
   "source": [
    "from pytictoc import TicToc"
   ]
  },
  {
   "cell_type": "code",
   "execution_count": null,
   "metadata": {},
   "outputs": [],
   "source": [
    "processed_key = \"processed_seed\""
   ]
  },
  {
   "cell_type": "code",
   "execution_count": null,
   "metadata": {},
   "outputs": [],
   "source": [
    "with TicToc():\n",
    "    print(\"Loading seed_ids from database...\", end=\"\", flush=True)\n",
    "    seed_ids = [s[\"_id\"] for s in api_db.col_users.find({\"depth\": 0}, {}).limit(len(misc.CONFIG[\"seed\"][\"usernames\"]))]\n",
    "    print(\"got %d seed users, done.\" % len(seed_ids))"
   ]
  },
  {
   "cell_type": "code",
   "execution_count": null,
   "metadata": {},
   "outputs": [],
   "source": [
    "find_params = {processed_key: {\"$exists\": False}, \"user\": {\"$in\": seed_ids}}\n",
    "retrieve_params = {\"user_mentions\": True, \"user\": True, \"retweeted_status.user\" :True, \"quoted_status.user\": True, \"in_reply_to_user_id\": True}\n",
    "tweets = api_db.col_tweets.find(find_params, retrieve_params, no_cursor_timeout=True)\n",
    "\n",
    "print(\"Processing seed tweets (silent db-only)...\", end=\"\", flush=True)\n",
    "count = 0\n",
    "with TicToc():\n",
    "    for t in tweets:\n",
    "        # fill user_ids list from differnt tweet information\n",
    "        user_ids = [t[\"user\"]]\n",
    "        if \"user_mentions\" in t: user_ids.extend(t[\"user_mentions\"])\n",
    "        if \"retweeted_status\" in t: user_ids.append(t[\"retweeted_status\"][\"user\"])\n",
    "        if \"quoted_status\" in t: user_ids.append(t[\"quoted_status\"][\"user\"])\n",
    "        if \"in_reply_to_user_id\" in t: user_ids.append(t[\"in_reply_to_user_id\"])\n",
    "        # remove duplicates, update user counts, mark tweet as procesed\n",
    "        user_ids = list(set(user_ids)) # they should not count twice\n",
    "        insert_user_ids(user_ids, depth=1)\n",
    "        upsert_tweet_info({\"_id\": t[\"_id\"], processed_key: True})\n",
    "        count+=1\n",
    "    print(\"processed %d new tweets, done.\" % (count))"
   ]
  },
  {
   "cell_type": "code",
   "execution_count": null,
   "metadata": {},
   "outputs": [],
   "source": [
    "print(\"DONE\")"
   ]
  }
 ],
 "metadata": {
  "kernelspec": {
   "display_name": "Python 3",
   "language": "python",
   "name": "python3"
  },
  "language_info": {
   "codemirror_mode": {
    "name": "ipython",
    "version": 3
   },
   "file_extension": ".py",
   "mimetype": "text/x-python",
   "name": "python",
   "nbconvert_exporter": "python",
   "pygments_lexer": "ipython3",
   "version": "3.7.4"
  }
 },
 "nbformat": 4,
 "nbformat_minor": 2
}
