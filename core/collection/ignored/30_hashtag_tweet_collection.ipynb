{
 "cells": [
  {
   "cell_type": "markdown",
   "metadata": {},
   "source": [
    "# Hourly Hashtag Tweet Collection\n",
    "* Iterate seed's most recent tweets ( restrict by `config.collection.search_languages`)\n",
    "* Gather all hashtags (should these be filtered?)\n",
    "* Merge these hashtags with the `config.seed.hashtags`\n",
    "* Search Twitter for those hashtags and insert those tweets"
   ]
  },
  {
   "cell_type": "markdown",
   "metadata": {},
   "source": [
    "Maybe create an index on `created_at` if this query starts getting too slow"
   ]
  },
  {
   "cell_type": "code",
   "execution_count": null,
   "metadata": {},
   "outputs": [],
   "source": [
    "# required imports to access api_db, misc, misc.CONFIG, ...\n",
    "import sys\n",
    "sys.path = ['.', '..', '../..'] + sys.path\n",
    "from collection import *"
   ]
  },
  {
   "cell_type": "markdown",
   "metadata": {},
   "source": [
    "### Conditional Execution\n",
    "Each file needs to verify if it should be executed or not based on the configurations (for some files this is not optional but all should have this section, even if it is tautological). Example:\n",
    "```python\n",
    "if not misc.CONFIG[\"collection\"][\"execute_this_script\"]: exit()\n",
    "```"
   ]
  },
  {
   "cell_type": "code",
   "execution_count": null,
   "metadata": {},
   "outputs": [],
   "source": [
    "# Conditional execution\n",
    "pass"
   ]
  },
  {
   "cell_type": "markdown",
   "metadata": {},
   "source": [
    "<hr>\n",
    "<h1 align=\"center\">driver code</h1>"
   ]
  },
  {
   "cell_type": "markdown",
   "metadata": {},
   "source": [
    "Get the seed ids"
   ]
  },
  {
   "cell_type": "code",
   "execution_count": null,
   "metadata": {},
   "outputs": [],
   "source": [
    "from pytictoc import TicToc"
   ]
  },
  {
   "cell_type": "code",
   "execution_count": null,
   "metadata": {},
   "outputs": [],
   "source": [
    "with TicToc():\n",
    "    print(\"Loading seed_ids from database...\", end=\"\", flush=True)\n",
    "    seed_ids = [s[\"_id\"] for s in api_db.col_users.find({\"depth\": 0}, {}).limit(len(misc.CONFIG[\"seed\"][\"usernames\"]))]\n",
    "    print(\"got %d seed users, done.\" % len(seed_ids))"
   ]
  },
  {
   "cell_type": "markdown",
   "metadata": {},
   "source": [
    "Query the database for the tweets since yesterday at midnight"
   ]
  },
  {
   "cell_type": "code",
   "execution_count": null,
   "metadata": {},
   "outputs": [],
   "source": [
    "yesterday = datetime.datetime.now() - datetime.timedelta(days=1)\n",
    "print(\"Yesterday at this time: %s\" % yesterday)"
   ]
  },
  {
   "cell_type": "code",
   "execution_count": null,
   "metadata": {},
   "outputs": [],
   "source": [
    "yesterday_seed_tweets = list(api_db.col_tweets.find({\n",
    "    \"user\": {\"$in\": seed_ids},\n",
    "    \"created_at\": {\"$gte\": yesterday}\n",
    "}).limit(10_000)) # in practice this limit is unlikely to be reached unless for a very large seed\n",
    "print(\"Found %d/10000 seed tweets\" % len(yesterday_seed_tweets))"
   ]
  },
  {
   "cell_type": "markdown",
   "metadata": {},
   "source": [
    "Extract the hastags from those tweets"
   ]
  },
  {
   "cell_type": "code",
   "execution_count": null,
   "metadata": {},
   "outputs": [],
   "source": [
    "hashtags_l = [h.lower() for t in yesterday_seed_tweets for h in dict_key_or_default(t, \"hashtags\", []) ]"
   ]
  },
  {
   "cell_type": "code",
   "execution_count": null,
   "metadata": {},
   "outputs": [],
   "source": [
    "from collections import Counter"
   ]
  },
  {
   "cell_type": "code",
   "execution_count": null,
   "metadata": {},
   "outputs": [],
   "source": [
    "print(\"hashtag counter: %s\" % Counter(hashtags_l))"
   ]
  },
  {
   "cell_type": "code",
   "execution_count": null,
   "metadata": {},
   "outputs": [],
   "source": [
    "hashtags = set(hashtags_l)\n",
    "print(\"Found a total of %d unique hashtags\" % len(hashtags))"
   ]
  },
  {
   "cell_type": "markdown",
   "metadata": {},
   "source": [
    "### perform the search"
   ]
  },
  {
   "cell_type": "markdown",
   "metadata": {},
   "source": [
    "#### Search goals\n",
    "* between yesterday(`since`) and today(`until`) in `YYYY-MM-DD` format\n",
    "* perform the search once for each hastag\n",
    "* perform the search once for each language\n",
    "* result_type `mixed`: recent and popular"
   ]
  },
  {
   "cell_type": "code",
   "execution_count": null,
   "metadata": {},
   "outputs": [],
   "source": [
    "s_yesterday = yesterday.strftime(\"%Y-%m-%d\")\n",
    "s_today = datetime.date.today().strftime(\"%Y-%m-%d\")\n",
    "print(\"yesterday: %s, today: %s\" % (s_yesterday, s_today))"
   ]
  },
  {
   "cell_type": "code",
   "execution_count": null,
   "metadata": {},
   "outputs": [],
   "source": [
    "langs = list(set(misc.CONFIG[\"collection\"][\"search_languages\"]) - {\"und\"})\n",
    "for lang in langs:\n",
    "    print(\"Searching for tweets in language=%s\" % lang)\n",
    "    for h in hashtags:\n",
    "        print(\"  with hashtag [#%s]...\" % h, end=\"\", flush=True)\n",
    "        tweets = search_hashtag(h, since=s_yesterday, until=s_today, lang=lang)\n",
    "        insert_tweets(tweets)\n",
    "        print(\"got %d tweets, done.\" % len(tweets))"
   ]
  },
  {
   "cell_type": "code",
   "execution_count": null,
   "metadata": {},
   "outputs": [],
   "source": [
    "print(\"DONE\")"
   ]
  }
 ],
 "metadata": {
  "kernelspec": {
   "display_name": "Python 3",
   "language": "python",
   "name": "python3"
  },
  "language_info": {
   "codemirror_mode": {
    "name": "ipython",
    "version": 3
   },
   "file_extension": ".py",
   "mimetype": "text/x-python",
   "name": "python",
   "nbconvert_exporter": "python",
   "pygments_lexer": "ipython3",
   "version": "3.7.4"
  }
 },
 "nbformat": 4,
 "nbformat_minor": 2
}
