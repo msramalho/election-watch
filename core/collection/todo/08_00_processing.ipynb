{
 "cells": [
  {
   "cell_type": "markdown",
   "metadata": {},
   "source": [
    "# Daily Tweet Processing\n",
    "Iterate tweets for a given day and perform some calculations"
   ]
  },
  {
   "cell_type": "code",
   "execution_count": 2,
   "metadata": {
    "tags": []
   },
   "outputs": [
    {
     "output_type": "stream",
     "name": "stdout",
     "text": "using 125 seed accounts and 0 hashtags\nDatabase stats: \n{'avgObjSize': 500.6761813384505,\n 'collections': 4,\n 'dataSize': 14611233.0,\n 'db': 'electionswatch',\n 'fsTotalSize': 510770802688.0,\n 'fsUsedSize': 445155201024.0,\n 'indexSize': 1961984.0,\n 'indexes': 8,\n 'numExtents': 0,\n 'objects': 29183,\n 'ok': 1.0,\n 'scaleFactor': 1.0,\n 'storageSize': 7831552.0,\n 'views': 0}\nDB size (B): 14611233.0\nDB size (MB): 13.93\nDB size (GB): 0.01\nUsing API keys for app twitta-mos\n\nDone initializing at 06:46PM on September 24, 2020.\n----------------------------------------\n"
    }
   ],
   "source": [
    "# required imports to access api_db, misc, misc.CONFIG, ...\n",
    "import sys\n",
    "sys.path = ['.', '..', '../..'] + sys.path\n",
    "from collection import *"
   ]
  },
  {
   "cell_type": "markdown",
   "metadata": {},
   "source": [
    "<hr>\n",
    "<h1 align=\"center\">driver code</h1>\n",
    "\n",
    "1. Define tasks to execute daily\n",
    "2. Check if these have been executed for each day of the past month\n",
    "3. Execute the ones that have not yet been executed (this ensures that new ones will be retroactively updated)\n",
    "4. "
   ]
  },
  {
   "cell_type": "code",
   "execution_count": 3,
   "metadata": {},
   "outputs": [],
   "source": [
    "from slugify import slugify\n",
    "import uuid"
   ]
  },
  {
   "cell_type": "code",
   "execution_count": 4,
   "metadata": {},
   "outputs": [],
   "source": [
    "from datetime import datetime, timezone, timedelta"
   ]
  },
  {
   "cell_type": "code",
   "execution_count": 93,
   "metadata": {},
   "outputs": [],
   "source": [
    "def get_filter_by_day(day):\n",
    "    # expects datetime\n",
    "    day_start = day.replace(hour=0, minute=0, second=0, microsecond=0)\n",
    "    day_end = day.replace(hour=23, minute=59, second=59, microsecond=0)\n",
    "    return {\"$gte\": day_start, \"$lt\": day_end}\n"
   ]
  },
  {
   "cell_type": "code",
   "execution_count": 94,
   "metadata": {},
   "outputs": [],
   "source": [
    "class Task:\n",
    "    # handles a collection task_name\n",
    "    # each document is {_id: uuid, day: day of analysis, data: what to store for this day}\n",
    "    def __init__(self, name):\n",
    "        self.name = slugify(name, separator=\"_\")\n",
    "        self.collection = api_db.db[\"task_%s\" % self.name]\n",
    "        # self.collection.create_index(\"day\") # create index on day\n",
    "\n",
    "    def exists_day(self, day):\n",
    "        return self.collection.find_one({\"day\": get_filter_by_day(day)}) is not None\n",
    "    \n",
    "    def insert(self, day, data):\n",
    "        return self.collection.insert({\"_id\": str(uuid.uuid4()), \"day\": day, \"data\": data})\n",
    "\n",
    "    def get_last_n(self, n=30):\n",
    "        assert n>0, \"n must be greater than 0\"\n",
    "        # retrieve last n entries concatenated\n",
    "        # self.collection.find({})\n",
    "        return list(self.collection.find({}).sort([(\"day\",-1)]).limit(n))\n",
    "\n",
    "    def unzip_last_n(self, n=30):\n",
    "        # returns two lists [days], [datas]\n",
    "        unzip = list(zip(*[(x[\"day\"], x[\"data\"]) for x in self.get_last_n(n)]))\n",
    "        return unzip[0], unzip[1]\n",
    "\n",
    "    def get_last(self): return self.get_last_n(1)[0]"
   ]
  },
  {
   "cell_type": "code",
   "execution_count": 95,
   "metadata": {},
   "outputs": [
    {
     "output_type": "execute_result",
     "data": {
      "text/plain": "(datetime.datetime(2020, 9, 23, 22, 4, 34, 974730), datetime.date(2020, 9, 23))"
     },
     "metadata": {},
     "execution_count": 95
    }
   ],
   "source": [
    "datetime.today(), date.today()"
   ]
  },
  {
   "cell_type": "code",
   "execution_count": 97,
   "metadata": {
    "tags": []
   },
   "outputs": [
    {
     "output_type": "stream",
     "name": "stdout",
     "text": "True\n"
    }
   ],
   "source": [
    "t = Task(\"teste\")\n",
    "# t.insert(datetime.now(), \"lol\")\n",
    "print(t.exists_day(datetime.today()))"
   ]
  },
  {
   "cell_type": "code",
   "execution_count": 113,
   "metadata": {},
   "outputs": [],
   "source": [
    "from collections import defaultdict"
   ]
  },
  {
   "source": [
    "---\n",
    "Define tasks below - these should be replicated in the api (or maybe make it generably able to access any `task_%s` collection from any endpoint, assuming injection is not a concern atm)"
   ],
   "cell_type": "markdown",
   "metadata": {}
  },
  {
   "cell_type": "code",
   "execution_count": 119,
   "metadata": {},
   "outputs": [],
   "source": [
    "# task 1 - count tweets by type\n",
    "def count_tweets_by_type(day):\n",
    "    task = Task(\"count by type\")\n",
    "    if task.exists_day(day): return # already processed\n",
    "    metrics = defaultdict(int, next(api_db.col_tweets.aggregate([\n",
    "        {\"$match\": {\"created_at\": get_filter_by_day(day)}}, \n",
    "        {\"$facet\": {\n",
    "            \"retweets\": [\n",
    "                {\"$match\": {\"retweeted_status\": {\"$exists\": True}}},\n",
    "                {\"$count\": \"retweets\"},\n",
    "            ],\n",
    "            \"quotes\": [\n",
    "                {\"$match\": {\"quoted_status\": {\"$exists\": True}}},\n",
    "                {\"$count\": \"quotes\"},\n",
    "            ],\n",
    "            \"replies\": [\n",
    "                {\"$match\": {\"in_reply_to_status_id\": {\"$exists\": True}}},\n",
    "                {\"$count\": \"replies\"},\n",
    "            ],\n",
    "            \"total\": [\n",
    "                {\"$count\": \"total\"},\n",
    "            ]\n",
    "        }},\n",
    "        {\"$project\": {\n",
    "            \"retweets\": {\"$arrayElemAt\": [\"$retweets.retweets\", 0]},\n",
    "            \"quotes\": {\"$arrayElemAt\": [\"$quotes.quotes\", 0]},\n",
    "            \"replies\": {\"$arrayElemAt\": [\"$replies.replies\", 0]},\n",
    "            \"total\": {\"$arrayElemAt\": [\"$total.total\", 0]}\n",
    "        }}\n",
    "    ])))\n",
    "    metrics[\"original\"] = metrics[\"total\"] - sum(metrics[x] for x in [\"retweets\", \"quotes\", \"replies\"])\n",
    "    # metrics = dict(metrics)\n",
    "    task.insert(day, metrics)"
   ]
  },
  {
   "source": [
    "# Main function that calls declared tasks\n",
    "Each task must be manually registered"
   ],
   "cell_type": "markdown",
   "metadata": {}
  },
  {
   "cell_type": "code",
   "execution_count": 120,
   "metadata": {},
   "outputs": [],
   "source": [
    "def main_caller(day):\n",
    "    with DoneMessage(\"Processing day %s\" % day):\n",
    "        count_tweets_by_type(day)"
   ]
  },
  {
   "cell_type": "code",
   "execution_count": 121,
   "metadata": {
    "tags": []
   },
   "outputs": [
    {
     "output_type": "stream",
     "name": "stdout",
     "text": "Processing day 2020-09-01 00:00:00...Done in 0.004s.\nProcessing day 2020-09-02 00:00:00...Done in 0.002s.\nProcessing day 2020-09-03 00:00:00...Done in 0.002s.\nProcessing day 2020-09-04 00:00:00...Done in 0.003s.\nProcessing day 2020-09-05 00:00:00...Done in 0.003s.\nProcessing day 2020-09-06 00:00:00...Done in 0.003s.\nProcessing day 2020-09-07 00:00:00...Done in 0.002s.\nProcessing day 2020-09-08 00:00:00...Done in 0.003s.\nProcessing day 2020-09-09 00:00:00...Done in 0.002s.\nProcessing day 2020-09-10 00:00:00...Done in 0.001s.\nProcessing day 2020-09-11 00:00:00...Done in 0.002s.\nProcessing day 2020-09-12 00:00:00...Done in 0.001s.\nProcessing day 2020-09-13 00:00:00...Done in 0.002s.\nProcessing day 2020-09-14 00:00:00...Done in 0.003s.\nProcessing day 2020-09-15 00:00:00...Done in 0.003s.\nProcessing day 2020-09-16 00:00:00...Done in 0.002s.\nProcessing day 2020-09-17 00:00:00...Done in 0.002s.\nProcessing day 2020-09-18 00:00:00...Done in 0.003s.\nProcessing day 2020-09-19 00:00:00...Done in 0.003s.\nProcessing day 2020-09-20 00:00:00...Done in 0.003s.\nProcessing day 2020-09-21 00:00:00...Done in 0.002s.\nProcessing day 2020-09-22 00:00:00...Done in 0.003s.\nProcessing day 2020-09-23 00:00:00...Done in 0.002s.\nProcessing day 2020-09-24 00:00:00...Done in 0.003s.\nProcessing day 2020-09-25 00:00:00...Done in 0.002s.\nProcessing day 2020-09-26 00:00:00...Done in 0.002s.\nProcessing day 2020-09-27 00:00:00...Done in 0.002s.\nProcessing day 2020-09-28 00:00:00...Done in 0.003s.\nProcessing day 2020-09-29 00:00:00...Done in 0.003s.\nProcessing day 2020-09-30 00:00:00...Done in 0.002s.\nProcessing day 2020-10-01 00:00:00...Done in 0.002s.\n"
    }
   ],
   "source": [
    "for day in (datetime(2020, 9, 1) + timedelta(n) for n in range(31)):\n",
    "    main_caller(day)"
   ]
  },
  {
   "cell_type": "code",
   "execution_count": 7,
   "metadata": {
    "tags": []
   },
   "outputs": [
    {
     "output_type": "stream",
     "name": "stdout",
     "text": "{\"created_at\": \"Tue Feb 10 12:25:47 +0000 2009\", \"description\": \"Twitter del principal partido pol\\u00edtico de Espa\\u00f1a. Ay\\u00fadanos a construir un pa\\u00eds mejor. Participa en nuestra apasionante tarea.\", \"favourites_count\": 43699, \"followers_count\": 804968, \"friends_count\": 6936, \"geo_enabled\": true, \"id\": 20509689, \"id_str\": \"20509689\", \"listed_count\": 4767, \"location\": \"Madrid, Espa\\u00f1a\", \"name\": \"Partido Popular\", \"profile_background_color\": \"ECF5FC\", \"profile_background_image_url\": \"http://abs.twimg.com/images/themes/theme1/bg.png\", \"profile_background_image_url_https\": \"https://abs.twimg.com/images/themes/theme1/bg.png\", \"profile_banner_url\": \"https://pbs.twimg.com/profile_banners/20509689/1589281691\", \"profile_image_url\": \"http://pbs.twimg.com/profile_images/1296325919313985536/pJ9JrJBg_normal.jpg\", \"profile_image_url_https\": \"https://pbs.twimg.com/profile_images/1296325919313985536/pJ9JrJBg_normal.jpg\", \"profile_link_color\": \"00579F\", \"profile_sidebar_border_color\": \"1990CC\", \"profile_sidebar_fill_color\": \"FFFFFF\", \"profile_text_color\": \"F3912B\", \"screen_name\": \"populares\", \"status\": {\"created_at\": \"Thu Sep 24 15:49:45 +0000 2020\", \"favorite_count\": 150, \"full_text\": \"Manuel Castells. Ministro de Universidades https://t.co/DSSj3lyAuI\", \"hashtags\": [], \"id\": 1309158087203393536, \"id_str\": \"1309158087203393536\", \"lang\": \"es\", \"media\": [{\"display_url\": \"pic.twitter.com/DSSj3lyAuI\", \"expanded_url\": \"https://twitter.com/populares/status/1309158087203393536/video/1\", \"id\": 1309157954189492224, \"media_url\": \"http://pbs.twimg.com/ext_tw_video_thumb/1309157954189492224/pu/img/e6CifDZcMo13_Lbl.jpg\", \"media_url_https\": \"https://pbs.twimg.com/ext_tw_video_thumb/1309157954189492224/pu/img/e6CifDZcMo13_Lbl.jpg\", \"sizes\": {\"large\": {\"h\": 360, \"resize\": \"fit\", \"w\": 640}, \"medium\": {\"h\": 360, \"resize\": \"fit\", \"w\": 640}, \"small\": {\"h\": 360, \"resize\": \"fit\", \"w\": 640}, \"thumb\": {\"h\": 150, \"resize\": \"crop\", \"w\": 150}}, \"type\": \"video\", \"url\": \"https://t.co/DSSj3lyAuI\", \"video_info\": {\"aspect_ratio\": [16, 9], \"duration_millis\": 19640, \"variants\": [{\"bitrate\": 832000, \"content_type\": \"video/mp4\", \"url\": \"https://video.twimg.com/ext_tw_video/1309157954189492224/pu/vid/640x360/COLdFgkdY48nsaoJ.mp4?tag=10\"}, {\"bitrate\": 256000, \"content_type\": \"video/mp4\", \"url\": \"https://video.twimg.com/ext_tw_video/1309157954189492224/pu/vid/480x270/gcidEJUYNHnw4AaU.mp4?tag=10\"}, {\"content_type\": \"application/x-mpegURL\", \"url\": \"https://video.twimg.com/ext_tw_video/1309157954189492224/pu/pl/PiBCu927oZXhotAL.m3u8?tag=10\"}]}}], \"retweet_count\": 96, \"source\": \"<a href=\\\"https://mobile.twitter.com\\\" rel=\\\"nofollow\\\">Twitter Web App</a>\", \"urls\": [], \"user_mentions\": []}, \"statuses_count\": 96540, \"url\": \"https://t.co/1QnSnijY35\", \"verified\": true}\n"
    }
   ],
   "source": [
    "print(get_account_details(20509689))"
   ]
  },
  {
   "cell_type": "code",
   "execution_count": 15,
   "metadata": {
    "tags": []
   },
   "outputs": [
    {
     "output_type": "stream",
     "name": "stdout",
     "text": "getting tweets for: 2880932962...Error for 2880932962 with error [{'message': 'Rate limit exceeded', 'code': 88}] with API Keys from 'feupadog3' (get_tweets:GetUserTimeline)\nUsing API keys for app feupg4\nError for 2880932962 with error [{'message': 'Rate limit exceeded', 'code': 88}] with API Keys from 'feupg4' (get_tweets:GetUserTimeline)\nUsing API keys for app feupg5\nError for 2880932962 with error [{'message': 'Rate limit exceeded', 'code': 88}] with API Keys from 'feupg5' (get_tweets:GetUserTimeline)\nUsing API keys for app feupg7\nError for 2880932962 with error [{'message': 'Rate limit exceeded', 'code': 88}] with API Keys from 'feupg7' (get_tweets:GetUserTimeline)\nUsing API keys for app feupadog4\nError for 2880932962 with error [{'message': 'Rate limit exceeded', 'code': 88}] with API Keys from 'feupadog4' (get_tweets:GetUserTimeline)\nUsing API keys for app feupadog5\nError for 2880932962 with error [{'message': 'Rate limit exceeded', 'code': 88}] with API Keys from 'feupadog5' (get_tweets:GetUserTimeline)\nUsing API keys for app feupadog6\nError for 2880932962 with error [{'message': 'Rate limit exceeded', 'code': 88}] with API Keys from 'feupadog6' (get_tweets:GetUserTimeline)\nUsing API keys for app toni_1\nError for 2880932962 with error [{'message': 'Rate limit exceeded', 'code': 88}] with API Keys from 'toni_1' (get_tweets:GetUserTimeline)\nUsing API keys for app toni_2\nError for 2880932962 with error [{'message': 'Rate limit exceeded', 'code': 88}] with API Keys from 'toni_2' (get_tweets:GetUserTimeline)\nUsing API keys for app toni_3\nError for 2880932962 with error [{'message': 'Rate limit exceeded', 'code': 88}] with API Keys from 'toni_3' (get_tweets:GetUserTimeline)\nUsing API keys for app damas1\nError for 2880932962 with error [{'message': 'Rate limit exceeded', 'code': 88}] with API Keys from 'damas1' (get_tweets:GetUserTimeline)\nUsing API keys for app damas2\nError for 2880932962 with error [{'message': 'Rate limit exceeded', 'code': 88}] with API Keys from 'damas2' (get_tweets:GetUserTimeline)\nUsing API keys for app feupg7\nError for 2880932962 with error [{'message': 'Rate limit exceeded', 'code': 88}] with API Keys from 'feupg7' (get_tweets:GetUserTimeline)\nUsing API keys for app feupg8\nError for 2880932962 with error [{'message': 'Rate limit exceeded', 'code': 88}] with API Keys from 'feupg8' (get_tweets:GetUserTimeline)\nUsing API keys for app feupadog7\nError for 2880932962 with error [{'message': 'Rate limit exceeded', 'code': 88}] with API Keys from 'feupadog7' (get_tweets:GetUserTimeline)\nUsing API keys for app feupadog8\nError for 2880932962 with error [{'message': 'Rate limit exceeded', 'code': 88}] with API Keys from 'feupadog8' (get_tweets:GetUserTimeline)\nUsing API keys for app feupadog9\nError for 2880932962 with error [{'message': 'Rate limit exceeded', 'code': 88}] with API Keys from 'feupadog9' (get_tweets:GetUserTimeline)\nUsing API keys for app damas3\nError for 2880932962 with error [{'message': 'Rate limit exceeded', 'code': 88}] with API Keys from 'damas3' (get_tweets:GetUserTimeline)\nUsing API keys for app toni_4\nError for 2880932962 with error [{'message': 'Rate limit exceeded', 'code': 88}] with API Keys from 'toni_4' (get_tweets:GetUserTimeline)\nUsing API keys for app toni_5\nError for 2880932962 with error [{'message': 'Rate limit exceeded', 'code': 88}] with API Keys from 'toni_5' (get_tweets:GetUserTimeline)\nUsing API keys for app toni_6\nError for 2880932962 with error [{'message': 'Rate limit exceeded', 'code': 88}] with API Keys from 'toni_6' (get_tweets:GetUserTimeline)\nUsing API keys for app feupado10\nError for 2880932962 with error [{'message': 'Rate limit exceeded', 'code': 88}] with API Keys from 'feupado10' (get_tweets:GetUserTimeline)\nUsing API keys for app danieladeixas_1\nError for 2880932962 with error [{'message': 'Rate limit exceeded', 'code': 88}] with API Keys from 'danieladeixas_1' (get_tweets:GetUserTimeline)\nUsing API keys for app danieladeixas_2\ngot 3229 new tweets, done.\n"
    }
   ],
   "source": [
    "find_params = find_exclude_invalid({\n",
    "    \"depth\": 0\n",
    "})\n",
    "oldest_t = misc.CONFIG[\"collection\"][\"oldest_tweet\"]\n",
    "# users = api_db.col_users.find(find_params, no_cursor_timeout=True)\n",
    "users = [{\"_id\": 2880932962}]\n",
    "for u in users:\n",
    "    print(\"getting tweets for: %s...\" % u[\"_id\"], end=\"\", flush=True)\n",
    "    tweets = get_tweets(u, api_db.api.GetUserTimeline, \"since_id\",  datetime(2020, 7, 18, tzinfo=timezone.utc), {\"trim_user\":True})\n",
    "    # insert_tweets(tweets)\n",
    "    # update_most_common_language(u, tweets) # removed because not useful here\n",
    "    print(\"got %d new tweets, done.\" % len(tweets))\n",
    "    if len(tweets) > 0: break"
   ]
  },
  {
   "cell_type": "code",
   "execution_count": 24,
   "metadata": {
    "tags": []
   },
   "outputs": [
    {
     "output_type": "stream",
     "name": "stdout",
     "text": "{'created_at': datetime.datetime(2020, 8, 26, 21, 55, 46, tzinfo=datetime.timezone.utc), 'favorite_count': 63, 'full_text': '@mariosabinof ao vivo agora no #PapoAntagonista com \\n@FMouraBrasil &gt;  https://t.co/rHHGqo7XOt https://t.co/8jb6hz9gAT', 'hashtags': ['PapoAntagonista'], 'in_reply_to_user_id': 2758948984, 'lang': 'pt', 'retweet_count': 10, 'source': '<a href=\"https://mobile.twitter.com\" rel=\"nofollow\">Twitter Web App</a>', 'urls': [{'expanded_url': 'https://oantagonista.com/especial/ao-vivo-papo-antagonista-com-felipe-moura-brasil-estreia/', 'url': 'https://t.co/rHHGqo7XOt'}], 'user': 2880932962, 'user_mentions': [2758948984, 52849416], 'processed': False, '_id': 1298740951419101187, 'collected_at': datetime.datetime(2020, 9, 24, 17, 21, 6, 205217)}\n"
    }
   ],
   "source": [
    "# [print(str(t) + \"\\n\") for t in tweets[-10:-1]]\n",
    "for t in tweets[0:10000]:\n",
    "    if \"in_reply_to_user_id\" in t:\n",
    "        print(t)"
   ]
  },
  {
   "source": [
    "### processing steps for each day\n",
    "* "
   ],
   "cell_type": "markdown",
   "metadata": {}
  },
  {
   "cell_type": "code",
   "execution_count": 5,
   "metadata": {
    "tags": []
   },
   "outputs": [
    {
     "output_type": "stream",
     "name": "stdout",
     "text": "https://twitter.com/YouTube\nhttps://twitter.com/Flamengo\nhttps://twitter.com/AndreCVentura\nhttps://twitter.com/realDonaldTrump\nhttps://twitter.com/jairbolsonaro\nhttps://twitter.com/IdiazAyuso\nhttps://twitter.com/RicFazeres\nhttps://twitter.com/SLBenfica\nhttps://twitter.com/narendramodi\nhttps://twitter.com/marcosbrazrio\nhttps://twitter.com/g1\nhttps://twitter.com/folha\nhttps://twitter.com/kheayf\nhttps://twitter.com/TiniStoessel\nhttps://twitter.com/Estadao\nhttps://twitter.com/JoeBiden\nhttps://twitter.com/antoniocostapm\nhttps://twitter.com/lmtf0981\nhttps://twitter.com/UOL\nhttps://twitter.com/FoxSportsBrasil\nhttps://twitter.com/a_john\nhttps://twitter.com/insoniascarvao\nhttps://twitter.com/yourcenar1234\nhttps://twitter.com/JanainaDoBrasil\nhttps://twitter.com/Celinha741\nhttps://twitter.com/Adriana_Az27\nhttps://twitter.com/pablocasado_\nhttps://twitter.com/missjulialee\nhttps://twitter.com/vonderleyen\nhttps://twitter.com/YesPISTLiberty\nhttps://twitter.com/TeamYouTube\nhttps://twitter.com/IainColledge\nhttps://twitter.com/CarlaPi11463031\nhttps://twitter.com/LOS40_RD\nhttps://twitter.com/MarkHoliday17\nhttps://twitter.com/Tobias_Ellwood\nhttps://twitter.com/stephenj_colvin\nhttps://twitter.com/thnxweh\nhttps://twitter.com/dvsk__\nhttps://twitter.com/observadorpt\nhttps://twitter.com/Rconstantino\nhttps://twitter.com/pedropi38475565\nhttps://twitter.com/ignacioaguado\nhttps://twitter.com/sanchezcastejon\nhttps://twitter.com/M_Matos61\nhttps://twitter.com/i_melosampaio\nhttps://twitter.com/UOLNoticias\nhttps://twitter.com/gugachacra\nhttps://twitter.com/SenadoFederal\nhttps://twitter.com/el_pais\n"
    }
   ],
   "source": [
    "ids = [10228272,59591856,1097962618596327424,25073877,128372940,140034129,548469532,21390437,18839785,460343731,8802752,14594813,2573549978,550281859,9317502,939091,718009445863788544,1052575513007587328,70799317,420535612,18670794,3436726391,977668818045751297,759001618884939776,1053687552559980546,912230745057431552,523386042,1153514249681014784,1146329871418843136,1135281351677161472,3031071234,17535349,1210301128350584833,257075159,1297365654455156736,482866177,1706955559,939472695724568579,2790564174,1690412382,33520195,548741359,143538142,68740712,1041852964959383552,781067873737404416,14594698,45409867,40095953,7996082]\n",
    "for _id in ids:\n",
    "    uu = api_db.get_account_details(user_id=_id).AsDict()\n",
    "    print(\"https://twitter.com/%s\" % uu[\"screen_name\"])"
   ]
  },
  {
   "cell_type": "code",
   "execution_count": 12,
   "metadata": {
    "tags": []
   },
   "outputs": [
    {
     "output_type": "stream",
     "name": "stdout",
     "text": "2020-07-18 00:00:00 2020-08-25 00:00:00\n"
    }
   ],
   "source": [
    "_from = datetime(2020, 7, 18)\n",
    "_to = datetime(2020, 8, 25)\n",
    "print(_from, _to)"
   ]
  },
  {
   "cell_type": "code",
   "execution_count": 13,
   "metadata": {},
   "outputs": [
    {
     "output_type": "execute_result",
     "data": {
      "text/plain": "datetime.datetime(2020, 9, 1, 0, 0, tzinfo=datetime.timezone.utc)"
     },
     "metadata": {},
     "execution_count": 13
    }
   ],
   "source": [
    "misc.CONFIG[\"collection\"][\"oldest_tweet\"]"
   ]
  },
  {
   "cell_type": "code",
   "execution_count": 14,
   "metadata": {
    "tags": []
   },
   "outputs": [
    {
     "output_type": "stream",
     "name": "stdout",
     "text": "{'_id': 1296716396240543744, 'created_at': datetime.datetime(2020, 8, 21, 7, 50, 55), 'favorite_count': 22, 'full_text': 'Estatuto do Antigo Combatente já foi publicado. Entra em vigor a 1 de setembro. https://t.co/xjNtyPhLgk', 'lang': 'pt', 'quoted_status': {'created_at': 'Fri Aug 21 07:47:27 +0000 2020', 'favorite_count': 16, 'full_text': 'Cá está a confirmação de um momento histórico para os ex-Combatentes, e, sobretudo, para Portugal que assume a sua responsabilidade histórica.\\nhttps://t.co/HDp8dpg3q9', 'lang': 'pt', 'retweet_count': 3, 'source': '<a href=\"http://twitter.com/download/iphone\" rel=\"nofollow\">Twitter for iPhone</a>', 'urls': [{'expanded_url': 'http://pt.cision.com/files/press/2020/08/88171733.pdf', 'url': 'https://t.co/HDp8dpg3q9'}], 'user': 1690036087, '_id': 1296715526245421056, 'original': True}, 'retweet_count': 7, 'source': '<a href=\"http://twitter.com/download/iphone\" rel=\"nofollow\">Twitter for iPhone</a>', 'urls': [{'expanded_url': 'https://twitter.com/JoaoCravinho/status/1296715526245421056', 'url': 'https://t.co/xjNtyPhLgk'}], 'user': 22780877, 'processed': False, 'collected_at': datetime.datetime(2020, 9, 20, 17, 48, 32, 556000)}\n"
    }
   ],
   "source": [
    "\n",
    "for tweet in api_db.col_tweets.find({\"created_at\": {\"$gte\": _from, \"$lt\": _to}}, no_cursor_timeout=True):\n",
    "    print(tweet)\n",
    "    break"
   ]
  },
  {
   "cell_type": "code",
   "execution_count": null,
   "metadata": {},
   "outputs": [],
   "source": [
    "print(\"DONE\")"
   ]
  }
 ],
 "metadata": {
  "kernelspec": {
   "display_name": "Python 3",
   "language": "python",
   "name": "python3"
  },
  "language_info": {
   "codemirror_mode": {
    "name": "ipython",
    "version": 3
   },
   "file_extension": ".py",
   "mimetype": "text/x-python",
   "name": "python",
   "nbconvert_exporter": "python",
   "pygments_lexer": "ipython3",
   "version": "3.7.4-final"
  }
 },
 "nbformat": 4,
 "nbformat_minor": 2
}